{
 "cells": [
  {
   "cell_type": "markdown",
   "metadata": {},
   "source": [
    "## Importing required packages "
   ]
  },
  {
   "cell_type": "code",
   "execution_count": 1,
   "metadata": {},
   "outputs": [],
   "source": [
    "#Importing required packages\n",
    "import numpy as np\n",
    "import pandas as pd\n",
    "import warnings\n",
    "warnings.filterwarnings('ignore')\n",
    "from bs4 import BeautifulSoup\n",
    "import requests"
   ]
  },
  {
   "cell_type": "markdown",
   "metadata": {},
   "source": [
    "## Getting and Understanding Data"
   ]
  },
  {
   "cell_type": "code",
   "execution_count": 2,
   "metadata": {},
   "outputs": [],
   "source": [
    "#Getting data\n",
    "companies = pd.read_csv(\"companies.txt\", sep=\"\\t\", encoding = \"ISO-8859-1\");\n",
    "rounds2= pd.read_csv(\"rounds2.csv\", encoding = \"ISO-8859-1\");\n",
    "#Decoding to clean the data\n",
    "companies[\"permalink\"]=companies[\"permalink\"].apply(lambda x:x.encode('utf-8').decode('ascii','ignore'));\n",
    "rounds2[\"company_permalink\"]=rounds2[\"company_permalink\"].apply(lambda x:x.encode('utf-8').decode('ascii','ignore'));"
   ]
  },
  {
   "cell_type": "code",
   "execution_count": 3,
   "metadata": {},
   "outputs": [
    {
     "name": "stdout",
     "output_type": "stream",
     "text": [
      "<class 'pandas.core.frame.DataFrame'>\n",
      "RangeIndex: 66368 entries, 0 to 66367\n",
      "Data columns (total 10 columns):\n",
      "permalink        66368 non-null object\n",
      "name             66367 non-null object\n",
      "homepage_url     61310 non-null object\n",
      "category_list    63220 non-null object\n",
      "status           66368 non-null object\n",
      "country_code     59410 non-null object\n",
      "state_code       57821 non-null object\n",
      "region           58338 non-null object\n",
      "city             58340 non-null object\n",
      "founded_at       51147 non-null object\n",
      "dtypes: object(10)\n",
      "memory usage: 5.1+ MB\n"
     ]
    }
   ],
   "source": [
    "#Understanding the structure of the datasets\n",
    "companies.info()"
   ]
  },
  {
   "cell_type": "code",
   "execution_count": 4,
   "metadata": {},
   "outputs": [
    {
     "name": "stdout",
     "output_type": "stream",
     "text": [
      "<class 'pandas.core.frame.DataFrame'>\n",
      "RangeIndex: 114949 entries, 0 to 114948\n",
      "Data columns (total 6 columns):\n",
      "company_permalink          114949 non-null object\n",
      "funding_round_permalink    114949 non-null object\n",
      "funding_round_type         114949 non-null object\n",
      "funding_round_code         31140 non-null object\n",
      "funded_at                  114949 non-null object\n",
      "raised_amount_usd          94959 non-null float64\n",
      "dtypes: float64(1), object(5)\n",
      "memory usage: 5.3+ MB\n"
     ]
    }
   ],
   "source": [
    "#Understanding the structure of the datasets\n",
    "rounds2.info()"
   ]
  },
  {
   "cell_type": "code",
   "execution_count": 5,
   "metadata": {},
   "outputs": [
    {
     "name": "stdout",
     "output_type": "stream",
     "text": [
      "Number of companies in companies.txt: 66368\n",
      "Number of companies in rounds2.csv: 66368\n"
     ]
    }
   ],
   "source": [
    "#Finding number of unique companies in companies.txt and rounds2.csv\n",
    "unique_companies=set(companies[\"permalink\"].str.lower());\n",
    "unique_rounds2=set(rounds2[\"company_permalink\"].str.lower());\n",
    "print(\"Number of companies in companies.txt:\",len(unique_companies));\n",
    "print(\"Number of companies in rounds2.csv:\",len(unique_rounds2));"
   ]
  },
  {
   "cell_type": "code",
   "execution_count": 6,
   "metadata": {},
   "outputs": [
    {
     "name": "stdout",
     "output_type": "stream",
     "text": [
      "Companies in companies.txt and not in rounds2.csv: set()\n",
      "Companies in rounds2.csv and not in companies.txt: set()\n"
     ]
    }
   ],
   "source": [
    "\n",
    "#Finding if any companies in companies.txt not in rounds2.csv and viceversa\n",
    "print(\"Companies in companies.txt and not in rounds2.csv:\",unique_companies-unique_rounds2);\n",
    "print(\"Companies in rounds2.csv and not in companies.txt:\",unique_rounds2-unique_companies);"
   ]
  },
  {
   "cell_type": "code",
   "execution_count": 7,
   "metadata": {},
   "outputs": [
    {
     "name": "stdout",
     "output_type": "stream",
     "text": [
      "Length of merged Master frame: 114949\n"
     ]
    }
   ],
   "source": [
    "#Merging the two dataframes\n",
    "companies[\"permalink\"]=companies[\"permalink\"].str.lower();\n",
    "rounds2[\"company_permalink\"]=rounds2[\"company_permalink\"].str.lower();\n",
    "master_frame=pd.merge(left=rounds2,right=companies,left_on='company_permalink',right_on='permalink',how='left');\n",
    "print(\"Length of merged Master frame:\",len(master_frame));"
   ]
  },
  {
   "cell_type": "code",
   "execution_count": 8,
   "metadata": {},
   "outputs": [
    {
     "name": "stdout",
     "output_type": "stream",
     "text": [
      "<class 'pandas.core.frame.DataFrame'>\n",
      "Int64Index: 114949 entries, 0 to 114948\n",
      "Data columns (total 16 columns):\n",
      "company_permalink          114949 non-null object\n",
      "funding_round_permalink    114949 non-null object\n",
      "funding_round_type         114949 non-null object\n",
      "funding_round_code         31140 non-null object\n",
      "funded_at                  114949 non-null object\n",
      "raised_amount_usd          94959 non-null float64\n",
      "permalink                  114949 non-null object\n",
      "name                       114948 non-null object\n",
      "homepage_url               108815 non-null object\n",
      "category_list              111539 non-null object\n",
      "status                     114949 non-null object\n",
      "country_code               106271 non-null object\n",
      "state_code                 104003 non-null object\n",
      "region                     104782 non-null object\n",
      "city                       104785 non-null object\n",
      "founded_at                 94428 non-null object\n",
      "dtypes: float64(1), object(15)\n",
      "memory usage: 14.9+ MB\n"
     ]
    }
   ],
   "source": [
    "#Understanding the structure of merged dataset\n",
    "master_frame.info()"
   ]
  },
  {
   "cell_type": "markdown",
   "metadata": {},
   "source": [
    "## Data Cleaning"
   ]
  },
  {
   "cell_type": "code",
   "execution_count": 9,
   "metadata": {},
   "outputs": [
    {
     "data": {
      "text/plain": [
       "company_permalink              0\n",
       "funding_round_permalink        0\n",
       "funding_round_type             0\n",
       "funding_round_code         83809\n",
       "funded_at                      0\n",
       "raised_amount_usd          19990\n",
       "permalink                      0\n",
       "name                           1\n",
       "homepage_url                6134\n",
       "category_list               3410\n",
       "status                         0\n",
       "country_code                8678\n",
       "state_code                 10946\n",
       "region                     10167\n",
       "city                       10164\n",
       "founded_at                 20521\n",
       "dtype: int64"
      ]
     },
     "execution_count": 9,
     "metadata": {},
     "output_type": "execute_result"
    }
   ],
   "source": [
    "#Cleaning Data\n",
    "#Checking number of null values in each column\n",
    "master_frame.isnull().sum(axis=0)"
   ]
  },
  {
   "cell_type": "code",
   "execution_count": 10,
   "metadata": {},
   "outputs": [
    {
     "name": "stdout",
     "output_type": "stream",
     "text": [
      "company_permalink           0.00\n",
      "funding_round_permalink     0.00\n",
      "funding_round_type          0.00\n",
      "funding_round_code         72.91\n",
      "funded_at                   0.00\n",
      "raised_amount_usd          17.39\n",
      "permalink                   0.00\n",
      "name                        0.00\n",
      "homepage_url                5.34\n",
      "category_list               2.97\n",
      "status                      0.00\n",
      "country_code                7.55\n",
      "state_code                  9.52\n",
      "region                      8.84\n",
      "city                        8.84\n",
      "founded_at                 17.85\n",
      "dtype: float64\n"
     ]
    }
   ],
   "source": [
    "#Checking the null values percentage for each column\n",
    "print(round(100*(master_frame.isnull().sum()/len(master_frame.index)), 2))"
   ]
  },
  {
   "cell_type": "code",
   "execution_count": 11,
   "metadata": {},
   "outputs": [
    {
     "name": "stdout",
     "output_type": "stream",
     "text": [
      "company_permalink      0.00\n",
      "funding_round_type     0.00\n",
      "raised_amount_usd     17.39\n",
      "name                   0.00\n",
      "category_list          2.97\n",
      "status                 0.00\n",
      "country_code           7.55\n",
      "dtype: float64\n"
     ]
    }
   ],
   "source": [
    "#Dropping columns that are unncessary / irrelevant to given scenario having more null values\n",
    "master_frame=master_frame.drop(columns=['funding_round_code','funding_round_permalink','funded_at','permalink','homepage_url','state_code','region','city','founded_at']);\n",
    "##Checking the null values percentage for each column\n",
    "print(round(100*(master_frame.isnull().sum()/len(master_frame.index)), 2))"
   ]
  },
  {
   "cell_type": "code",
   "execution_count": 12,
   "metadata": {},
   "outputs": [
    {
     "name": "stdout",
     "output_type": "stream",
     "text": [
      "company_permalink     0.0\n",
      "funding_round_type    0.0\n",
      "raised_amount_usd     0.0\n",
      "name                  0.0\n",
      "category_list         0.0\n",
      "status                0.0\n",
      "country_code          0.0\n",
      "dtype: float64\n"
     ]
    }
   ],
   "source": [
    "#Dropping rows having  null values in 'raised_amount_usd','country_code','category_list' since these are the vital columns for the given scenario\n",
    "master_frame=master_frame[~(master_frame['raised_amount_usd'].isnull() | master_frame['country_code'].isnull() | master_frame['category_list'].isnull())]\n",
    "#Deleting companies with operational status as closed\n",
    "master_frame=master_frame[~(master_frame['status'].str.lower()=='closed')]\n",
    "print(round(100*(master_frame.isnull().sum()/len(master_frame.index)), 2))"
   ]
  },
  {
   "cell_type": "code",
   "execution_count": 13,
   "metadata": {},
   "outputs": [
    {
     "data": {
      "text/html": [
       "<div>\n",
       "<style scoped>\n",
       "    .dataframe tbody tr th:only-of-type {\n",
       "        vertical-align: middle;\n",
       "    }\n",
       "\n",
       "    .dataframe tbody tr th {\n",
       "        vertical-align: top;\n",
       "    }\n",
       "\n",
       "    .dataframe thead th {\n",
       "        text-align: right;\n",
       "    }\n",
       "</style>\n",
       "<table border=\"1\" class=\"dataframe\">\n",
       "  <thead>\n",
       "    <tr style=\"text-align: right;\">\n",
       "      <th></th>\n",
       "      <th>company_permalink</th>\n",
       "      <th>funding_round_type</th>\n",
       "      <th>raised_amount_usd</th>\n",
       "      <th>name</th>\n",
       "      <th>category_list</th>\n",
       "      <th>status</th>\n",
       "      <th>country_code</th>\n",
       "    </tr>\n",
       "  </thead>\n",
       "  <tbody>\n",
       "    <tr>\n",
       "      <th>0</th>\n",
       "      <td>/organization/-fame</td>\n",
       "      <td>venture</td>\n",
       "      <td>10000000.0</td>\n",
       "      <td>#fame</td>\n",
       "      <td>Media</td>\n",
       "      <td>operating</td>\n",
       "      <td>IND</td>\n",
       "    </tr>\n",
       "    <tr>\n",
       "      <th>2</th>\n",
       "      <td>/organization/-qounter</td>\n",
       "      <td>seed</td>\n",
       "      <td>700000.0</td>\n",
       "      <td>:Qounter</td>\n",
       "      <td>Application Platforms|Real Time|Social Network...</td>\n",
       "      <td>operating</td>\n",
       "      <td>USA</td>\n",
       "    </tr>\n",
       "    <tr>\n",
       "      <th>4</th>\n",
       "      <td>/organization/0-6-com</td>\n",
       "      <td>venture</td>\n",
       "      <td>2000000.0</td>\n",
       "      <td>0-6.com</td>\n",
       "      <td>Curated Web</td>\n",
       "      <td>operating</td>\n",
       "      <td>CHN</td>\n",
       "    </tr>\n",
       "    <tr>\n",
       "      <th>6</th>\n",
       "      <td>/organization/01games-technology</td>\n",
       "      <td>undisclosed</td>\n",
       "      <td>41250.0</td>\n",
       "      <td>01Games Technology</td>\n",
       "      <td>Games</td>\n",
       "      <td>operating</td>\n",
       "      <td>HKG</td>\n",
       "    </tr>\n",
       "    <tr>\n",
       "      <th>7</th>\n",
       "      <td>/organization/0ndine-biomedical-inc</td>\n",
       "      <td>seed</td>\n",
       "      <td>43360.0</td>\n",
       "      <td>Ondine Biomedical Inc.</td>\n",
       "      <td>Biotechnology</td>\n",
       "      <td>operating</td>\n",
       "      <td>CAN</td>\n",
       "    </tr>\n",
       "  </tbody>\n",
       "</table>\n",
       "</div>"
      ],
      "text/plain": [
       "                     company_permalink funding_round_type  raised_amount_usd  \\\n",
       "0                  /organization/-fame            venture         10000000.0   \n",
       "2               /organization/-qounter               seed           700000.0   \n",
       "4                /organization/0-6-com            venture          2000000.0   \n",
       "6     /organization/01games-technology        undisclosed            41250.0   \n",
       "7  /organization/0ndine-biomedical-inc               seed            43360.0   \n",
       "\n",
       "                     name                                      category_list  \\\n",
       "0                   #fame                                              Media   \n",
       "2                :Qounter  Application Platforms|Real Time|Social Network...   \n",
       "4                 0-6.com                                        Curated Web   \n",
       "6      01Games Technology                                              Games   \n",
       "7  Ondine Biomedical Inc.                                      Biotechnology   \n",
       "\n",
       "      status country_code  \n",
       "0  operating          IND  \n",
       "2  operating          USA  \n",
       "4  operating          CHN  \n",
       "6  operating          HKG  \n",
       "7  operating          CAN  "
      ]
     },
     "execution_count": 13,
     "metadata": {},
     "output_type": "execute_result"
    }
   ],
   "source": [
    "#Understanding the data\n",
    "master_frame.head()"
   ]
  },
  {
   "cell_type": "markdown",
   "metadata": {},
   "source": [
    "## Finding Average value of investments for each Funding Type"
   ]
  },
  {
   "cell_type": "code",
   "execution_count": 14,
   "metadata": {
    "scrolled": true
   },
   "outputs": [
    {
     "data": {
      "text/html": [
       "<div>\n",
       "<style scoped>\n",
       "    .dataframe tbody tr th:only-of-type {\n",
       "        vertical-align: middle;\n",
       "    }\n",
       "\n",
       "    .dataframe tbody tr th {\n",
       "        vertical-align: top;\n",
       "    }\n",
       "\n",
       "    .dataframe thead th {\n",
       "        text-align: right;\n",
       "    }\n",
       "</style>\n",
       "<table border=\"1\" class=\"dataframe\">\n",
       "  <thead>\n",
       "    <tr style=\"text-align: right;\">\n",
       "      <th></th>\n",
       "      <th>funding_round_type</th>\n",
       "      <th>raised_amount_usd</th>\n",
       "    </tr>\n",
       "  </thead>\n",
       "  <tbody>\n",
       "    <tr>\n",
       "      <th>6</th>\n",
       "      <td>post_ipo_debt</td>\n",
       "      <td>175.469724</td>\n",
       "    </tr>\n",
       "    <tr>\n",
       "      <th>10</th>\n",
       "      <td>secondary_market</td>\n",
       "      <td>94.089405</td>\n",
       "    </tr>\n",
       "    <tr>\n",
       "      <th>8</th>\n",
       "      <td>private_equity</td>\n",
       "      <td>75.976019</td>\n",
       "    </tr>\n",
       "    <tr>\n",
       "      <th>7</th>\n",
       "      <td>post_ipo_equity</td>\n",
       "      <td>67.163587</td>\n",
       "    </tr>\n",
       "    <tr>\n",
       "      <th>2</th>\n",
       "      <td>debt_financing</td>\n",
       "      <td>17.868009</td>\n",
       "    </tr>\n",
       "    <tr>\n",
       "      <th>12</th>\n",
       "      <td>undisclosed</td>\n",
       "      <td>16.049107</td>\n",
       "    </tr>\n",
       "    <tr>\n",
       "      <th>13</th>\n",
       "      <td>venture</td>\n",
       "      <td>11.893957</td>\n",
       "    </tr>\n",
       "    <tr>\n",
       "      <th>4</th>\n",
       "      <td>grant</td>\n",
       "      <td>4.283535</td>\n",
       "    </tr>\n",
       "    <tr>\n",
       "      <th>9</th>\n",
       "      <td>product_crowdfunding</td>\n",
       "      <td>1.376774</td>\n",
       "    </tr>\n",
       "    <tr>\n",
       "      <th>1</th>\n",
       "      <td>convertible_note</td>\n",
       "      <td>1.343502</td>\n",
       "    </tr>\n",
       "    <tr>\n",
       "      <th>0</th>\n",
       "      <td>angel</td>\n",
       "      <td>0.997188</td>\n",
       "    </tr>\n",
       "    <tr>\n",
       "      <th>11</th>\n",
       "      <td>seed</td>\n",
       "      <td>0.763280</td>\n",
       "    </tr>\n",
       "    <tr>\n",
       "      <th>3</th>\n",
       "      <td>equity_crowdfunding</td>\n",
       "      <td>0.509747</td>\n",
       "    </tr>\n",
       "    <tr>\n",
       "      <th>5</th>\n",
       "      <td>non_equity_assistance</td>\n",
       "      <td>0.469980</td>\n",
       "    </tr>\n",
       "  </tbody>\n",
       "</table>\n",
       "</div>"
      ],
      "text/plain": [
       "       funding_round_type  raised_amount_usd\n",
       "6           post_ipo_debt         175.469724\n",
       "10       secondary_market          94.089405\n",
       "8          private_equity          75.976019\n",
       "7         post_ipo_equity          67.163587\n",
       "2          debt_financing          17.868009\n",
       "12            undisclosed          16.049107\n",
       "13                venture          11.893957\n",
       "4                   grant           4.283535\n",
       "9    product_crowdfunding           1.376774\n",
       "1        convertible_note           1.343502\n",
       "0                   angel           0.997188\n",
       "11                   seed           0.763280\n",
       "3     equity_crowdfunding           0.509747\n",
       "5   non_equity_assistance           0.469980"
      ]
     },
     "execution_count": 14,
     "metadata": {},
     "output_type": "execute_result"
    }
   ],
   "source": [
    "#Finding Average value of investments for each Funding Type\n",
    "#Grouping by Funding type\n",
    "master_frame['raised_amount_usd']=master_frame['raised_amount_usd']/1000000; #Converting it into millions of USD\n",
    "masterframe_grouped=master_frame.groupby('funding_round_type',as_index=False).mean().sort_values(\"raised_amount_usd\",ascending=False);\n",
    "masterframe_grouped"
   ]
  },
  {
   "cell_type": "markdown",
   "metadata": {},
   "source": [
    "## Choosing the investment type based on given range"
   ]
  },
  {
   "cell_type": "code",
   "execution_count": 15,
   "metadata": {},
   "outputs": [
    {
     "data": {
      "text/html": [
       "<div>\n",
       "<style scoped>\n",
       "    .dataframe tbody tr th:only-of-type {\n",
       "        vertical-align: middle;\n",
       "    }\n",
       "\n",
       "    .dataframe tbody tr th {\n",
       "        vertical-align: top;\n",
       "    }\n",
       "\n",
       "    .dataframe thead th {\n",
       "        text-align: right;\n",
       "    }\n",
       "</style>\n",
       "<table border=\"1\" class=\"dataframe\">\n",
       "  <thead>\n",
       "    <tr style=\"text-align: right;\">\n",
       "      <th></th>\n",
       "      <th>funding_round_type</th>\n",
       "      <th>raised_amount_usd</th>\n",
       "    </tr>\n",
       "  </thead>\n",
       "  <tbody>\n",
       "    <tr>\n",
       "      <th>13</th>\n",
       "      <td>venture</td>\n",
       "      <td>11.893957</td>\n",
       "    </tr>\n",
       "  </tbody>\n",
       "</table>\n",
       "</div>"
      ],
      "text/plain": [
       "   funding_round_type  raised_amount_usd\n",
       "13            venture          11.893957"
      ]
     },
     "execution_count": 15,
     "metadata": {},
     "output_type": "execute_result"
    }
   ],
   "source": [
    "#Applying filter condition of investment amount between 5 to 15 million USD\n",
    "df1=masterframe_grouped[masterframe_grouped[\"raised_amount_usd\"].between(5, 15, inclusive = True)]\n",
    "df1"
   ]
  },
  {
   "cell_type": "code",
   "execution_count": 16,
   "metadata": {},
   "outputs": [
    {
     "name": "stdout",
     "output_type": "stream",
     "text": [
      "\n",
      " Grouped dataframe on Funding type and applying filter: \n",
      "    funding_round_type  raised_amount_usd\n",
      "13            venture          11.893957\n",
      "\n",
      " Chosen investment type:  venture\n"
     ]
    }
   ],
   "source": [
    "#Choosing the investment type\n",
    "investment_type=df1['funding_round_type'].to_string(index=False);\n",
    "print(\"\\n Grouped dataframe on Funding type and applying filter: \\n\",df1);\n",
    "print(\"\\n Chosen investment type:\",investment_type);"
   ]
  },
  {
   "cell_type": "markdown",
   "metadata": {},
   "source": [
    "## Filtering the data with only the selected investment type"
   ]
  },
  {
   "cell_type": "code",
   "execution_count": 17,
   "metadata": {},
   "outputs": [
    {
     "data": {
      "text/html": [
       "<div>\n",
       "<style scoped>\n",
       "    .dataframe tbody tr th:only-of-type {\n",
       "        vertical-align: middle;\n",
       "    }\n",
       "\n",
       "    .dataframe tbody tr th {\n",
       "        vertical-align: top;\n",
       "    }\n",
       "\n",
       "    .dataframe thead th {\n",
       "        text-align: right;\n",
       "    }\n",
       "</style>\n",
       "<table border=\"1\" class=\"dataframe\">\n",
       "  <thead>\n",
       "    <tr style=\"text-align: right;\">\n",
       "      <th></th>\n",
       "      <th>company_permalink</th>\n",
       "      <th>funding_round_type</th>\n",
       "      <th>raised_amount_usd</th>\n",
       "      <th>name</th>\n",
       "      <th>category_list</th>\n",
       "      <th>status</th>\n",
       "      <th>country_code</th>\n",
       "    </tr>\n",
       "  </thead>\n",
       "  <tbody>\n",
       "    <tr>\n",
       "      <th>0</th>\n",
       "      <td>/organization/-fame</td>\n",
       "      <td>venture</td>\n",
       "      <td>10.000000</td>\n",
       "      <td>#fame</td>\n",
       "      <td>Media</td>\n",
       "      <td>operating</td>\n",
       "      <td>IND</td>\n",
       "    </tr>\n",
       "    <tr>\n",
       "      <th>4</th>\n",
       "      <td>/organization/0-6-com</td>\n",
       "      <td>venture</td>\n",
       "      <td>2.000000</td>\n",
       "      <td>0-6.com</td>\n",
       "      <td>Curated Web</td>\n",
       "      <td>operating</td>\n",
       "      <td>CHN</td>\n",
       "    </tr>\n",
       "    <tr>\n",
       "      <th>8</th>\n",
       "      <td>/organization/0ndine-biomedical-inc</td>\n",
       "      <td>venture</td>\n",
       "      <td>0.719491</td>\n",
       "      <td>Ondine Biomedical Inc.</td>\n",
       "      <td>Biotechnology</td>\n",
       "      <td>operating</td>\n",
       "      <td>CAN</td>\n",
       "    </tr>\n",
       "    <tr>\n",
       "      <th>10</th>\n",
       "      <td>/organization/0xdata</td>\n",
       "      <td>venture</td>\n",
       "      <td>20.000000</td>\n",
       "      <td>H2O.ai</td>\n",
       "      <td>Analytics</td>\n",
       "      <td>operating</td>\n",
       "      <td>USA</td>\n",
       "    </tr>\n",
       "    <tr>\n",
       "      <th>11</th>\n",
       "      <td>/organization/0xdata</td>\n",
       "      <td>venture</td>\n",
       "      <td>1.700000</td>\n",
       "      <td>H2O.ai</td>\n",
       "      <td>Analytics</td>\n",
       "      <td>operating</td>\n",
       "      <td>USA</td>\n",
       "    </tr>\n",
       "  </tbody>\n",
       "</table>\n",
       "</div>"
      ],
      "text/plain": [
       "                      company_permalink funding_round_type  raised_amount_usd  \\\n",
       "0                   /organization/-fame            venture          10.000000   \n",
       "4                 /organization/0-6-com            venture           2.000000   \n",
       "8   /organization/0ndine-biomedical-inc            venture           0.719491   \n",
       "10                 /organization/0xdata            venture          20.000000   \n",
       "11                 /organization/0xdata            venture           1.700000   \n",
       "\n",
       "                      name  category_list     status country_code  \n",
       "0                    #fame          Media  operating          IND  \n",
       "4                  0-6.com    Curated Web  operating          CHN  \n",
       "8   Ondine Biomedical Inc.  Biotechnology  operating          CAN  \n",
       "10                  H2O.ai      Analytics  operating          USA  \n",
       "11                  H2O.ai      Analytics  operating          USA  "
      ]
     },
     "execution_count": 17,
     "metadata": {},
     "output_type": "execute_result"
    }
   ],
   "source": [
    "#Filtering only the selected investment type\n",
    "masterframe_venture=master_frame[master_frame['funding_round_type']=='venture'];\n",
    "masterframe_venture.head()"
   ]
  },
  {
   "cell_type": "markdown",
   "metadata": {},
   "source": [
    "## Finding top9 countries based on invested amount on selected investment type - Venture"
   ]
  },
  {
   "cell_type": "code",
   "execution_count": 18,
   "metadata": {},
   "outputs": [
    {
     "data": {
      "text/html": [
       "<div>\n",
       "<style scoped>\n",
       "    .dataframe tbody tr th:only-of-type {\n",
       "        vertical-align: middle;\n",
       "    }\n",
       "\n",
       "    .dataframe tbody tr th {\n",
       "        vertical-align: top;\n",
       "    }\n",
       "\n",
       "    .dataframe thead th {\n",
       "        text-align: right;\n",
       "    }\n",
       "</style>\n",
       "<table border=\"1\" class=\"dataframe\">\n",
       "  <thead>\n",
       "    <tr style=\"text-align: right;\">\n",
       "      <th></th>\n",
       "      <th>country_code</th>\n",
       "      <th>raised_amount_usd</th>\n",
       "    </tr>\n",
       "  </thead>\n",
       "  <tbody>\n",
       "    <tr>\n",
       "      <th>94</th>\n",
       "      <td>USA</td>\n",
       "      <td>398324.586390</td>\n",
       "    </tr>\n",
       "    <tr>\n",
       "      <th>15</th>\n",
       "      <td>CHN</td>\n",
       "      <td>38642.273502</td>\n",
       "    </tr>\n",
       "    <tr>\n",
       "      <th>29</th>\n",
       "      <td>GBR</td>\n",
       "      <td>18142.285645</td>\n",
       "    </tr>\n",
       "    <tr>\n",
       "      <th>39</th>\n",
       "      <td>IND</td>\n",
       "      <td>13920.253718</td>\n",
       "    </tr>\n",
       "    <tr>\n",
       "      <th>12</th>\n",
       "      <td>CAN</td>\n",
       "      <td>8747.167598</td>\n",
       "    </tr>\n",
       "    <tr>\n",
       "      <th>28</th>\n",
       "      <td>FRA</td>\n",
       "      <td>6742.608637</td>\n",
       "    </tr>\n",
       "    <tr>\n",
       "      <th>42</th>\n",
       "      <td>ISR</td>\n",
       "      <td>6484.356814</td>\n",
       "    </tr>\n",
       "    <tr>\n",
       "      <th>21</th>\n",
       "      <td>DEU</td>\n",
       "      <td>6021.103078</td>\n",
       "    </tr>\n",
       "    <tr>\n",
       "      <th>45</th>\n",
       "      <td>JPN</td>\n",
       "      <td>3156.202471</td>\n",
       "    </tr>\n",
       "  </tbody>\n",
       "</table>\n",
       "</div>"
      ],
      "text/plain": [
       "   country_code  raised_amount_usd\n",
       "94          USA      398324.586390\n",
       "15          CHN       38642.273502\n",
       "29          GBR       18142.285645\n",
       "39          IND       13920.253718\n",
       "12          CAN        8747.167598\n",
       "28          FRA        6742.608637\n",
       "42          ISR        6484.356814\n",
       "21          DEU        6021.103078\n",
       "45          JPN        3156.202471"
      ]
     },
     "execution_count": 18,
     "metadata": {},
     "output_type": "execute_result"
    }
   ],
   "source": [
    "#Dataframe of top9 countries based on invested amount on selected investment type\n",
    "top9=masterframe_venture.groupby('country_code',as_index=False).sum().sort_values(\"raised_amount_usd\",ascending=False).head(9);\n",
    "top9"
   ]
  },
  {
   "cell_type": "markdown",
   "metadata": {},
   "source": [
    "## Finding the top3 English Speaking Countries"
   ]
  },
  {
   "cell_type": "code",
   "execution_count": 19,
   "metadata": {},
   "outputs": [
    {
     "data": {
      "text/plain": [
       "['USA', 'GBR', 'IND']"
      ]
     },
     "execution_count": 19,
     "metadata": {},
     "output_type": "execute_result"
    }
   ],
   "source": [
    "# Using Beautiful Soup to extract country codes of those countries where English is the official language\n",
    "source_code = requests.get('https://en.wikipedia.org/wiki/List_of_territorial_entities_where_English_is_an_official_language')\n",
    "soup = BeautifulSoup(source_code.content,features=\"lxml\")\n",
    "table1 = soup.find_all('table')[0]\n",
    "df = pd.read_html(str(table1))[0]\n",
    "country_code_1 = df[\"Alpha-3 code\"].tolist()\n",
    "table2 = soup.find_all('table')[1]\n",
    "df = pd.read_html(str(table2))[0]\n",
    "country_code_2 = df[\"Alpha-3 code\"].tolist()\n",
    "country_code=list(set(country_code_1+country_code_2))\n",
    "# Filtering top 3 English speaking countries from top 9\n",
    "top_english_speaking=top9[top9['country_code'].isin(country_code)].sort_values(by='raised_amount_usd',ascending=False)\n",
    "top3=top_english_speaking['country_code'][0:3].to_list()\n",
    "top3"
   ]
  },
  {
   "cell_type": "markdown",
   "metadata": {},
   "source": [
    "## Sector Analysis"
   ]
  },
  {
   "cell_type": "code",
   "execution_count": 20,
   "metadata": {},
   "outputs": [
    {
     "data": {
      "text/html": [
       "<div>\n",
       "<style scoped>\n",
       "    .dataframe tbody tr th:only-of-type {\n",
       "        vertical-align: middle;\n",
       "    }\n",
       "\n",
       "    .dataframe tbody tr th {\n",
       "        vertical-align: top;\n",
       "    }\n",
       "\n",
       "    .dataframe thead th {\n",
       "        text-align: right;\n",
       "    }\n",
       "</style>\n",
       "<table border=\"1\" class=\"dataframe\">\n",
       "  <thead>\n",
       "    <tr style=\"text-align: right;\">\n",
       "      <th></th>\n",
       "      <th>company_permalink</th>\n",
       "      <th>funding_round_type</th>\n",
       "      <th>raised_amount_usd</th>\n",
       "      <th>name</th>\n",
       "      <th>category_list</th>\n",
       "      <th>status</th>\n",
       "      <th>country_code</th>\n",
       "      <th>primary_category</th>\n",
       "    </tr>\n",
       "  </thead>\n",
       "  <tbody>\n",
       "    <tr>\n",
       "      <th>0</th>\n",
       "      <td>/organization/-fame</td>\n",
       "      <td>venture</td>\n",
       "      <td>10.000000</td>\n",
       "      <td>#fame</td>\n",
       "      <td>Media</td>\n",
       "      <td>operating</td>\n",
       "      <td>IND</td>\n",
       "      <td>Media</td>\n",
       "    </tr>\n",
       "    <tr>\n",
       "      <th>4</th>\n",
       "      <td>/organization/0-6-com</td>\n",
       "      <td>venture</td>\n",
       "      <td>2.000000</td>\n",
       "      <td>0-6.com</td>\n",
       "      <td>Curated Web</td>\n",
       "      <td>operating</td>\n",
       "      <td>CHN</td>\n",
       "      <td>Curated Web</td>\n",
       "    </tr>\n",
       "    <tr>\n",
       "      <th>8</th>\n",
       "      <td>/organization/0ndine-biomedical-inc</td>\n",
       "      <td>venture</td>\n",
       "      <td>0.719491</td>\n",
       "      <td>Ondine Biomedical Inc.</td>\n",
       "      <td>Biotechnology</td>\n",
       "      <td>operating</td>\n",
       "      <td>CAN</td>\n",
       "      <td>Biotechnology</td>\n",
       "    </tr>\n",
       "    <tr>\n",
       "      <th>10</th>\n",
       "      <td>/organization/0xdata</td>\n",
       "      <td>venture</td>\n",
       "      <td>20.000000</td>\n",
       "      <td>H2O.ai</td>\n",
       "      <td>Analytics</td>\n",
       "      <td>operating</td>\n",
       "      <td>USA</td>\n",
       "      <td>Analytics</td>\n",
       "    </tr>\n",
       "    <tr>\n",
       "      <th>11</th>\n",
       "      <td>/organization/0xdata</td>\n",
       "      <td>venture</td>\n",
       "      <td>1.700000</td>\n",
       "      <td>H2O.ai</td>\n",
       "      <td>Analytics</td>\n",
       "      <td>operating</td>\n",
       "      <td>USA</td>\n",
       "      <td>Analytics</td>\n",
       "    </tr>\n",
       "  </tbody>\n",
       "</table>\n",
       "</div>"
      ],
      "text/plain": [
       "                      company_permalink funding_round_type  raised_amount_usd  \\\n",
       "0                   /organization/-fame            venture          10.000000   \n",
       "4                 /organization/0-6-com            venture           2.000000   \n",
       "8   /organization/0ndine-biomedical-inc            venture           0.719491   \n",
       "10                 /organization/0xdata            venture          20.000000   \n",
       "11                 /organization/0xdata            venture           1.700000   \n",
       "\n",
       "                      name  category_list     status country_code  \\\n",
       "0                    #fame          Media  operating          IND   \n",
       "4                  0-6.com    Curated Web  operating          CHN   \n",
       "8   Ondine Biomedical Inc.  Biotechnology  operating          CAN   \n",
       "10                  H2O.ai      Analytics  operating          USA   \n",
       "11                  H2O.ai      Analytics  operating          USA   \n",
       "\n",
       "   primary_category  \n",
       "0             Media  \n",
       "4       Curated Web  \n",
       "8     Biotechnology  \n",
       "10        Analytics  \n",
       "11        Analytics  "
      ]
     },
     "execution_count": 20,
     "metadata": {},
     "output_type": "execute_result"
    }
   ],
   "source": [
    "#Sector Analysis\n",
    "#Extracting the primary category\n",
    "master_frame_old=master_frame\n",
    "master_frame=masterframe_venture\n",
    "master_frame[\"primary_category\"]=master_frame['category_list'].apply(lambda x:str(x).split(\"|\")[0].title());\n",
    "master_frame.head()"
   ]
  },
  {
   "cell_type": "code",
   "execution_count": 21,
   "metadata": {},
   "outputs": [
    {
     "data": {
      "text/html": [
       "<div>\n",
       "<style scoped>\n",
       "    .dataframe tbody tr th:only-of-type {\n",
       "        vertical-align: middle;\n",
       "    }\n",
       "\n",
       "    .dataframe tbody tr th {\n",
       "        vertical-align: top;\n",
       "    }\n",
       "\n",
       "    .dataframe thead th {\n",
       "        text-align: right;\n",
       "    }\n",
       "</style>\n",
       "<table border=\"1\" class=\"dataframe\">\n",
       "  <thead>\n",
       "    <tr style=\"text-align: right;\">\n",
       "      <th></th>\n",
       "      <th>category_list</th>\n",
       "      <th>Automotive &amp; Sports</th>\n",
       "      <th>Blanks</th>\n",
       "      <th>Cleantech / Semiconductors</th>\n",
       "      <th>Entertainment</th>\n",
       "      <th>Health</th>\n",
       "      <th>Manufacturing</th>\n",
       "      <th>News, Search and Messaging</th>\n",
       "      <th>Others</th>\n",
       "      <th>Social, Finance, Analytics, Advertising</th>\n",
       "    </tr>\n",
       "  </thead>\n",
       "  <tbody>\n",
       "    <tr>\n",
       "      <th>0</th>\n",
       "      <td>NaN</td>\n",
       "      <td>0</td>\n",
       "      <td>1</td>\n",
       "      <td>0</td>\n",
       "      <td>0</td>\n",
       "      <td>0</td>\n",
       "      <td>0</td>\n",
       "      <td>0</td>\n",
       "      <td>0</td>\n",
       "      <td>0</td>\n",
       "    </tr>\n",
       "    <tr>\n",
       "      <th>1</th>\n",
       "      <td>3D</td>\n",
       "      <td>0</td>\n",
       "      <td>0</td>\n",
       "      <td>0</td>\n",
       "      <td>0</td>\n",
       "      <td>0</td>\n",
       "      <td>1</td>\n",
       "      <td>0</td>\n",
       "      <td>0</td>\n",
       "      <td>0</td>\n",
       "    </tr>\n",
       "    <tr>\n",
       "      <th>2</th>\n",
       "      <td>3D Printing</td>\n",
       "      <td>0</td>\n",
       "      <td>0</td>\n",
       "      <td>0</td>\n",
       "      <td>0</td>\n",
       "      <td>0</td>\n",
       "      <td>1</td>\n",
       "      <td>0</td>\n",
       "      <td>0</td>\n",
       "      <td>0</td>\n",
       "    </tr>\n",
       "    <tr>\n",
       "      <th>3</th>\n",
       "      <td>3D Technology</td>\n",
       "      <td>0</td>\n",
       "      <td>0</td>\n",
       "      <td>0</td>\n",
       "      <td>0</td>\n",
       "      <td>0</td>\n",
       "      <td>1</td>\n",
       "      <td>0</td>\n",
       "      <td>0</td>\n",
       "      <td>0</td>\n",
       "    </tr>\n",
       "    <tr>\n",
       "      <th>4</th>\n",
       "      <td>Accounting</td>\n",
       "      <td>0</td>\n",
       "      <td>0</td>\n",
       "      <td>0</td>\n",
       "      <td>0</td>\n",
       "      <td>0</td>\n",
       "      <td>0</td>\n",
       "      <td>0</td>\n",
       "      <td>0</td>\n",
       "      <td>1</td>\n",
       "    </tr>\n",
       "  </tbody>\n",
       "</table>\n",
       "</div>"
      ],
      "text/plain": [
       "   category_list  Automotive & Sports  Blanks  Cleantech / Semiconductors  \\\n",
       "0            NaN                    0       1                           0   \n",
       "1             3D                    0       0                           0   \n",
       "2    3D Printing                    0       0                           0   \n",
       "3  3D Technology                    0       0                           0   \n",
       "4     Accounting                    0       0                           0   \n",
       "\n",
       "   Entertainment  Health  Manufacturing  News, Search and Messaging  Others  \\\n",
       "0              0       0              0                           0       0   \n",
       "1              0       0              1                           0       0   \n",
       "2              0       0              1                           0       0   \n",
       "3              0       0              1                           0       0   \n",
       "4              0       0              0                           0       0   \n",
       "\n",
       "   Social, Finance, Analytics, Advertising  \n",
       "0                                        0  \n",
       "1                                        0  \n",
       "2                                        0  \n",
       "3                                        0  \n",
       "4                                        1  "
      ]
     },
     "execution_count": 21,
     "metadata": {},
     "output_type": "execute_result"
    }
   ],
   "source": [
    "#Loading the mapping file as a dataframe\n",
    "mapping_frame=pd.read_csv(\"C:\\\\Users\\karth\\Desktop\\Datascience\\Assignment_1_SparkFunds\\\\mapping.csv\",header=0);\n",
    "mapping_frame.head()"
   ]
  },
  {
   "cell_type": "code",
   "execution_count": 22,
   "metadata": {},
   "outputs": [
    {
     "name": "stdout",
     "output_type": "stream",
     "text": [
      "<class 'pandas.core.frame.DataFrame'>\n",
      "Int64Index: 44732 entries, 0 to 44747\n",
      "Data columns (total 9 columns):\n",
      "company_permalink     44732 non-null object\n",
      "funding_round_type    44732 non-null object\n",
      "raised_amount_usd     44732 non-null float64\n",
      "name                  44732 non-null object\n",
      "category_list         44732 non-null object\n",
      "status                44732 non-null object\n",
      "country_code          44732 non-null object\n",
      "primary_category      44732 non-null object\n",
      "main_category         44732 non-null object\n",
      "dtypes: float64(1), object(8)\n",
      "memory usage: 3.4+ MB\n"
     ]
    }
   ],
   "source": [
    "#Mapping primary category to main category according to mapping file\n",
    "mapping_frame[\"category_list\"]=mapping_frame[\"category_list\"].apply(lambda x:str(x).replace('0','na').title());\n",
    "mapping_frame = pd.melt(mapping_frame,id_vars=[\"category_list\"])\n",
    "mapping_frame = mapping_frame[mapping_frame.value != 0]\n",
    "mapping_frame = mapping_frame.drop('value', axis=1)\n",
    "mapping_frame.rename(columns={'variable':'main_category','category_list':'primary_category'}, inplace=True)\n",
    "master_frame=pd.merge(left=master_frame,right=mapping_frame, left_on='primary_category',right_on='primary_category',how='left')\n",
    "master_frame=master_frame.rename(columns={'main_category_x':'main_category'})\n",
    "master_frame=master_frame[~(master_frame['main_category'].isnull())]\n",
    "master_frame.info()"
   ]
  },
  {
   "cell_type": "code",
   "execution_count": 23,
   "metadata": {},
   "outputs": [
    {
     "data": {
      "text/html": [
       "<div>\n",
       "<style scoped>\n",
       "    .dataframe tbody tr th:only-of-type {\n",
       "        vertical-align: middle;\n",
       "    }\n",
       "\n",
       "    .dataframe tbody tr th {\n",
       "        vertical-align: top;\n",
       "    }\n",
       "\n",
       "    .dataframe thead th {\n",
       "        text-align: right;\n",
       "    }\n",
       "</style>\n",
       "<table border=\"1\" class=\"dataframe\">\n",
       "  <thead>\n",
       "    <tr style=\"text-align: right;\">\n",
       "      <th></th>\n",
       "      <th>company_permalink</th>\n",
       "      <th>funding_round_type</th>\n",
       "      <th>raised_amount_usd</th>\n",
       "      <th>name</th>\n",
       "      <th>category_list</th>\n",
       "      <th>status</th>\n",
       "      <th>country_code</th>\n",
       "      <th>primary_category</th>\n",
       "      <th>main_category</th>\n",
       "    </tr>\n",
       "  </thead>\n",
       "  <tbody>\n",
       "    <tr>\n",
       "      <th>0</th>\n",
       "      <td>/organization/-fame</td>\n",
       "      <td>venture</td>\n",
       "      <td>10.000000</td>\n",
       "      <td>#fame</td>\n",
       "      <td>Media</td>\n",
       "      <td>operating</td>\n",
       "      <td>IND</td>\n",
       "      <td>Media</td>\n",
       "      <td>Entertainment</td>\n",
       "    </tr>\n",
       "    <tr>\n",
       "      <th>1</th>\n",
       "      <td>/organization/0-6-com</td>\n",
       "      <td>venture</td>\n",
       "      <td>2.000000</td>\n",
       "      <td>0-6.com</td>\n",
       "      <td>Curated Web</td>\n",
       "      <td>operating</td>\n",
       "      <td>CHN</td>\n",
       "      <td>Curated Web</td>\n",
       "      <td>News, Search and Messaging</td>\n",
       "    </tr>\n",
       "    <tr>\n",
       "      <th>2</th>\n",
       "      <td>/organization/0ndine-biomedical-inc</td>\n",
       "      <td>venture</td>\n",
       "      <td>0.719491</td>\n",
       "      <td>Ondine Biomedical Inc.</td>\n",
       "      <td>Biotechnology</td>\n",
       "      <td>operating</td>\n",
       "      <td>CAN</td>\n",
       "      <td>Biotechnology</td>\n",
       "      <td>Cleantech / Semiconductors</td>\n",
       "    </tr>\n",
       "    <tr>\n",
       "      <th>3</th>\n",
       "      <td>/organization/0xdata</td>\n",
       "      <td>venture</td>\n",
       "      <td>20.000000</td>\n",
       "      <td>H2O.ai</td>\n",
       "      <td>Analytics</td>\n",
       "      <td>operating</td>\n",
       "      <td>USA</td>\n",
       "      <td>Analytics</td>\n",
       "      <td>Social, Finance, Analytics, Advertising</td>\n",
       "    </tr>\n",
       "    <tr>\n",
       "      <th>4</th>\n",
       "      <td>/organization/0xdata</td>\n",
       "      <td>venture</td>\n",
       "      <td>1.700000</td>\n",
       "      <td>H2O.ai</td>\n",
       "      <td>Analytics</td>\n",
       "      <td>operating</td>\n",
       "      <td>USA</td>\n",
       "      <td>Analytics</td>\n",
       "      <td>Social, Finance, Analytics, Advertising</td>\n",
       "    </tr>\n",
       "  </tbody>\n",
       "</table>\n",
       "</div>"
      ],
      "text/plain": [
       "                     company_permalink funding_round_type  raised_amount_usd  \\\n",
       "0                  /organization/-fame            venture          10.000000   \n",
       "1                /organization/0-6-com            venture           2.000000   \n",
       "2  /organization/0ndine-biomedical-inc            venture           0.719491   \n",
       "3                 /organization/0xdata            venture          20.000000   \n",
       "4                 /organization/0xdata            venture           1.700000   \n",
       "\n",
       "                     name  category_list     status country_code  \\\n",
       "0                   #fame          Media  operating          IND   \n",
       "1                 0-6.com    Curated Web  operating          CHN   \n",
       "2  Ondine Biomedical Inc.  Biotechnology  operating          CAN   \n",
       "3                  H2O.ai      Analytics  operating          USA   \n",
       "4                  H2O.ai      Analytics  operating          USA   \n",
       "\n",
       "  primary_category                            main_category  \n",
       "0            Media                            Entertainment  \n",
       "1      Curated Web               News, Search and Messaging  \n",
       "2    Biotechnology               Cleantech / Semiconductors  \n",
       "3        Analytics  Social, Finance, Analytics, Advertising  \n",
       "4        Analytics  Social, Finance, Analytics, Advertising  "
      ]
     },
     "execution_count": 23,
     "metadata": {},
     "output_type": "execute_result"
    }
   ],
   "source": [
    "#Understanding mapped dataset\n",
    "master_frame.head()"
   ]
  },
  {
   "cell_type": "markdown",
   "metadata": {},
   "source": [
    "## Separating data of top 3 English Speaking countries investing on type 'Venture' \n",
    "## in the range 5-15 million USD"
   ]
  },
  {
   "cell_type": "code",
   "execution_count": 24,
   "metadata": {},
   "outputs": [
    {
     "data": {
      "text/html": [
       "<div>\n",
       "<style scoped>\n",
       "    .dataframe tbody tr th:only-of-type {\n",
       "        vertical-align: middle;\n",
       "    }\n",
       "\n",
       "    .dataframe tbody tr th {\n",
       "        vertical-align: top;\n",
       "    }\n",
       "\n",
       "    .dataframe thead th {\n",
       "        text-align: right;\n",
       "    }\n",
       "</style>\n",
       "<table border=\"1\" class=\"dataframe\">\n",
       "  <thead>\n",
       "    <tr style=\"text-align: right;\">\n",
       "      <th></th>\n",
       "      <th>company_permalink</th>\n",
       "      <th>funding_round_type</th>\n",
       "      <th>raised_amount_usd</th>\n",
       "      <th>name</th>\n",
       "      <th>category_list</th>\n",
       "      <th>status</th>\n",
       "      <th>country_code</th>\n",
       "      <th>primary_category</th>\n",
       "      <th>main_category</th>\n",
       "    </tr>\n",
       "  </thead>\n",
       "  <tbody>\n",
       "    <tr>\n",
       "      <th>5</th>\n",
       "      <td>/organization/0xdata</td>\n",
       "      <td>venture</td>\n",
       "      <td>8.900000</td>\n",
       "      <td>H2O.ai</td>\n",
       "      <td>Analytics</td>\n",
       "      <td>operating</td>\n",
       "      <td>USA</td>\n",
       "      <td>Analytics</td>\n",
       "      <td>Social, Finance, Analytics, Advertising</td>\n",
       "    </tr>\n",
       "    <tr>\n",
       "      <th>6</th>\n",
       "      <td>/organization/1-mainstream</td>\n",
       "      <td>venture</td>\n",
       "      <td>5.000000</td>\n",
       "      <td>1 Mainstream</td>\n",
       "      <td>Apps|Cable|Distribution|Software</td>\n",
       "      <td>acquired</td>\n",
       "      <td>USA</td>\n",
       "      <td>Apps</td>\n",
       "      <td>News, Search and Messaging</td>\n",
       "    </tr>\n",
       "    <tr>\n",
       "      <th>28</th>\n",
       "      <td>/organization/128-technology</td>\n",
       "      <td>venture</td>\n",
       "      <td>11.999347</td>\n",
       "      <td>128 Technology</td>\n",
       "      <td>Service Providers|Technology</td>\n",
       "      <td>operating</td>\n",
       "      <td>USA</td>\n",
       "      <td>Service Providers</td>\n",
       "      <td>Others</td>\n",
       "    </tr>\n",
       "    <tr>\n",
       "      <th>32</th>\n",
       "      <td>/organization/1366-technologies</td>\n",
       "      <td>venture</td>\n",
       "      <td>15.000000</td>\n",
       "      <td>1366 Technologies</td>\n",
       "      <td>Manufacturing</td>\n",
       "      <td>operating</td>\n",
       "      <td>USA</td>\n",
       "      <td>Manufacturing</td>\n",
       "      <td>Manufacturing</td>\n",
       "    </tr>\n",
       "    <tr>\n",
       "      <th>33</th>\n",
       "      <td>/organization/1366-technologies</td>\n",
       "      <td>venture</td>\n",
       "      <td>5.000000</td>\n",
       "      <td>1366 Technologies</td>\n",
       "      <td>Manufacturing</td>\n",
       "      <td>operating</td>\n",
       "      <td>USA</td>\n",
       "      <td>Manufacturing</td>\n",
       "      <td>Manufacturing</td>\n",
       "    </tr>\n",
       "  </tbody>\n",
       "</table>\n",
       "</div>"
      ],
      "text/plain": [
       "                  company_permalink funding_round_type  raised_amount_usd  \\\n",
       "5              /organization/0xdata            venture           8.900000   \n",
       "6        /organization/1-mainstream            venture           5.000000   \n",
       "28     /organization/128-technology            venture          11.999347   \n",
       "32  /organization/1366-technologies            venture          15.000000   \n",
       "33  /organization/1366-technologies            venture           5.000000   \n",
       "\n",
       "                 name                     category_list     status  \\\n",
       "5              H2O.ai                         Analytics  operating   \n",
       "6        1 Mainstream  Apps|Cable|Distribution|Software   acquired   \n",
       "28     128 Technology      Service Providers|Technology  operating   \n",
       "32  1366 Technologies                     Manufacturing  operating   \n",
       "33  1366 Technologies                     Manufacturing  operating   \n",
       "\n",
       "   country_code   primary_category                            main_category  \n",
       "5           USA          Analytics  Social, Finance, Analytics, Advertising  \n",
       "6           USA               Apps               News, Search and Messaging  \n",
       "28          USA  Service Providers                                   Others  \n",
       "32          USA      Manufacturing                            Manufacturing  \n",
       "33          USA      Manufacturing                            Manufacturing  "
      ]
     },
     "execution_count": 24,
     "metadata": {},
     "output_type": "execute_result"
    }
   ],
   "source": [
    "#Creating separate dataframes for the top3 english speaking countries for chosen investment type and investment range\n",
    "#Country 1 : USA Funding Type:Venture\n",
    "df_country1=master_frame.loc[master_frame['country_code']==top3[0]]\n",
    "# Removing rows where 'raised amount' is in the range 5-15 million USD\n",
    "df_country1=df_country1[~np.isnan(df_country1['raised_amount_usd'])].loc[df_country1[\"raised_amount_usd\"].between(5, 15, inclusive = True)]\n",
    "df_country1.head()"
   ]
  },
  {
   "cell_type": "code",
   "execution_count": 25,
   "metadata": {},
   "outputs": [
    {
     "data": {
      "text/html": [
       "<div>\n",
       "<style scoped>\n",
       "    .dataframe tbody tr th:only-of-type {\n",
       "        vertical-align: middle;\n",
       "    }\n",
       "\n",
       "    .dataframe tbody tr th {\n",
       "        vertical-align: top;\n",
       "    }\n",
       "\n",
       "    .dataframe thead th {\n",
       "        text-align: right;\n",
       "    }\n",
       "</style>\n",
       "<table border=\"1\" class=\"dataframe\">\n",
       "  <thead>\n",
       "    <tr style=\"text-align: right;\">\n",
       "      <th></th>\n",
       "      <th>company_permalink</th>\n",
       "      <th>funding_round_type</th>\n",
       "      <th>raised_amount_usd</th>\n",
       "      <th>name</th>\n",
       "      <th>category_list</th>\n",
       "      <th>status</th>\n",
       "      <th>country_code</th>\n",
       "      <th>primary_category</th>\n",
       "      <th>main_category</th>\n",
       "    </tr>\n",
       "  </thead>\n",
       "  <tbody>\n",
       "    <tr>\n",
       "      <th>146</th>\n",
       "      <td>/organization/365scores</td>\n",
       "      <td>venture</td>\n",
       "      <td>5.500000</td>\n",
       "      <td>365Scores</td>\n",
       "      <td>Android|Apps|iPhone|Mobile|Sports</td>\n",
       "      <td>operating</td>\n",
       "      <td>GBR</td>\n",
       "      <td>Android</td>\n",
       "      <td>Social, Finance, Analytics, Advertising</td>\n",
       "    </tr>\n",
       "    <tr>\n",
       "      <th>324</th>\n",
       "      <td>/organization/7digital</td>\n",
       "      <td>venture</td>\n",
       "      <td>8.468328</td>\n",
       "      <td>7digital</td>\n",
       "      <td>Content Creators|Content Delivery|Licensing|Mu...</td>\n",
       "      <td>acquired</td>\n",
       "      <td>GBR</td>\n",
       "      <td>Content Creators</td>\n",
       "      <td>Entertainment</td>\n",
       "    </tr>\n",
       "    <tr>\n",
       "      <th>325</th>\n",
       "      <td>/organization/7digital</td>\n",
       "      <td>venture</td>\n",
       "      <td>10.000000</td>\n",
       "      <td>7digital</td>\n",
       "      <td>Content Creators|Content Delivery|Licensing|Mu...</td>\n",
       "      <td>acquired</td>\n",
       "      <td>GBR</td>\n",
       "      <td>Content Creators</td>\n",
       "      <td>Entertainment</td>\n",
       "    </tr>\n",
       "    <tr>\n",
       "      <th>349</th>\n",
       "      <td>/organization/90min</td>\n",
       "      <td>venture</td>\n",
       "      <td>15.000000</td>\n",
       "      <td>90min</td>\n",
       "      <td>Media|News|Publishing|Soccer|Sports</td>\n",
       "      <td>operating</td>\n",
       "      <td>GBR</td>\n",
       "      <td>Media</td>\n",
       "      <td>Entertainment</td>\n",
       "    </tr>\n",
       "    <tr>\n",
       "      <th>350</th>\n",
       "      <td>/organization/90min</td>\n",
       "      <td>venture</td>\n",
       "      <td>5.800000</td>\n",
       "      <td>90min</td>\n",
       "      <td>Media|News|Publishing|Soccer|Sports</td>\n",
       "      <td>operating</td>\n",
       "      <td>GBR</td>\n",
       "      <td>Media</td>\n",
       "      <td>Entertainment</td>\n",
       "    </tr>\n",
       "  </tbody>\n",
       "</table>\n",
       "</div>"
      ],
      "text/plain": [
       "           company_permalink funding_round_type  raised_amount_usd       name  \\\n",
       "146  /organization/365scores            venture           5.500000  365Scores   \n",
       "324   /organization/7digital            venture           8.468328   7digital   \n",
       "325   /organization/7digital            venture          10.000000   7digital   \n",
       "349      /organization/90min            venture          15.000000      90min   \n",
       "350      /organization/90min            venture           5.800000      90min   \n",
       "\n",
       "                                         category_list     status  \\\n",
       "146                  Android|Apps|iPhone|Mobile|Sports  operating   \n",
       "324  Content Creators|Content Delivery|Licensing|Mu...   acquired   \n",
       "325  Content Creators|Content Delivery|Licensing|Mu...   acquired   \n",
       "349                Media|News|Publishing|Soccer|Sports  operating   \n",
       "350                Media|News|Publishing|Soccer|Sports  operating   \n",
       "\n",
       "    country_code  primary_category                            main_category  \n",
       "146          GBR           Android  Social, Finance, Analytics, Advertising  \n",
       "324          GBR  Content Creators                            Entertainment  \n",
       "325          GBR  Content Creators                            Entertainment  \n",
       "349          GBR             Media                            Entertainment  \n",
       "350          GBR             Media                            Entertainment  "
      ]
     },
     "execution_count": 25,
     "metadata": {},
     "output_type": "execute_result"
    }
   ],
   "source": [
    "#Creating separate dataframes for the top3 english speaking countries for chosen investment type and investment range\n",
    "#Country 2 : GBR Funding Type:Venture\n",
    "df_country2=master_frame.loc[master_frame['country_code']==top3[1]]\n",
    "# Removing rows where 'raised amount' is in the range 5-15 million USD\n",
    "df_country2=df_country2[~np.isnan(df_country2['raised_amount_usd'])].loc[df_country2[\"raised_amount_usd\"].between(5, 15, inclusive = True)]\n",
    "df_country2.head()"
   ]
  },
  {
   "cell_type": "code",
   "execution_count": 26,
   "metadata": {},
   "outputs": [
    {
     "data": {
      "text/html": [
       "<div>\n",
       "<style scoped>\n",
       "    .dataframe tbody tr th:only-of-type {\n",
       "        vertical-align: middle;\n",
       "    }\n",
       "\n",
       "    .dataframe tbody tr th {\n",
       "        vertical-align: top;\n",
       "    }\n",
       "\n",
       "    .dataframe thead th {\n",
       "        text-align: right;\n",
       "    }\n",
       "</style>\n",
       "<table border=\"1\" class=\"dataframe\">\n",
       "  <thead>\n",
       "    <tr style=\"text-align: right;\">\n",
       "      <th></th>\n",
       "      <th>company_permalink</th>\n",
       "      <th>funding_round_type</th>\n",
       "      <th>raised_amount_usd</th>\n",
       "      <th>name</th>\n",
       "      <th>category_list</th>\n",
       "      <th>status</th>\n",
       "      <th>country_code</th>\n",
       "      <th>primary_category</th>\n",
       "      <th>main_category</th>\n",
       "    </tr>\n",
       "  </thead>\n",
       "  <tbody>\n",
       "    <tr>\n",
       "      <th>0</th>\n",
       "      <td>/organization/-fame</td>\n",
       "      <td>venture</td>\n",
       "      <td>10.000000</td>\n",
       "      <td>#fame</td>\n",
       "      <td>Media</td>\n",
       "      <td>operating</td>\n",
       "      <td>IND</td>\n",
       "      <td>Media</td>\n",
       "      <td>Entertainment</td>\n",
       "    </tr>\n",
       "    <tr>\n",
       "      <th>74</th>\n",
       "      <td>/organization/21diamonds-india</td>\n",
       "      <td>venture</td>\n",
       "      <td>6.369507</td>\n",
       "      <td>21Diamonds</td>\n",
       "      <td>E-Commerce</td>\n",
       "      <td>operating</td>\n",
       "      <td>IND</td>\n",
       "      <td>E-Commerce</td>\n",
       "      <td>Others</td>\n",
       "    </tr>\n",
       "    <tr>\n",
       "      <th>381</th>\n",
       "      <td>/organization/a-little-world</td>\n",
       "      <td>venture</td>\n",
       "      <td>6.410000</td>\n",
       "      <td>A LITTLE WORLD</td>\n",
       "      <td>Finance</td>\n",
       "      <td>operating</td>\n",
       "      <td>IND</td>\n",
       "      <td>Finance</td>\n",
       "      <td>Social, Finance, Analytics, Advertising</td>\n",
       "    </tr>\n",
       "    <tr>\n",
       "      <th>1094</th>\n",
       "      <td>/organization/adlabs-imagica</td>\n",
       "      <td>venture</td>\n",
       "      <td>8.180000</td>\n",
       "      <td>Adlabs Imagica</td>\n",
       "      <td>Entertainment|Tourism</td>\n",
       "      <td>operating</td>\n",
       "      <td>IND</td>\n",
       "      <td>Entertainment</td>\n",
       "      <td>Entertainment</td>\n",
       "    </tr>\n",
       "    <tr>\n",
       "      <th>1494</th>\n",
       "      <td>/organization/agile</td>\n",
       "      <td>venture</td>\n",
       "      <td>5.740000</td>\n",
       "      <td>Agile</td>\n",
       "      <td>Finance|Finance Technology|FinTech|Insurance</td>\n",
       "      <td>operating</td>\n",
       "      <td>IND</td>\n",
       "      <td>Finance</td>\n",
       "      <td>Social, Finance, Analytics, Advertising</td>\n",
       "    </tr>\n",
       "  </tbody>\n",
       "</table>\n",
       "</div>"
      ],
      "text/plain": [
       "                   company_permalink funding_round_type  raised_amount_usd  \\\n",
       "0                /organization/-fame            venture          10.000000   \n",
       "74    /organization/21diamonds-india            venture           6.369507   \n",
       "381     /organization/a-little-world            venture           6.410000   \n",
       "1094    /organization/adlabs-imagica            venture           8.180000   \n",
       "1494             /organization/agile            venture           5.740000   \n",
       "\n",
       "                name                                 category_list     status  \\\n",
       "0              #fame                                         Media  operating   \n",
       "74        21Diamonds                                    E-Commerce  operating   \n",
       "381   A LITTLE WORLD                                       Finance  operating   \n",
       "1094  Adlabs Imagica                         Entertainment|Tourism  operating   \n",
       "1494           Agile  Finance|Finance Technology|FinTech|Insurance  operating   \n",
       "\n",
       "     country_code primary_category                            main_category  \n",
       "0             IND            Media                            Entertainment  \n",
       "74            IND       E-Commerce                                   Others  \n",
       "381           IND          Finance  Social, Finance, Analytics, Advertising  \n",
       "1094          IND    Entertainment                            Entertainment  \n",
       "1494          IND          Finance  Social, Finance, Analytics, Advertising  "
      ]
     },
     "execution_count": 26,
     "metadata": {},
     "output_type": "execute_result"
    }
   ],
   "source": [
    "#Creating separate dataframes for the top3 english speaking countries for chosen investment type and investment range\n",
    "#Country 3 : IND Funding Type:Venture\n",
    "df_country3=master_frame.loc[master_frame['country_code']==top3[2]]\n",
    "# Removing rows where 'raised amount' is in the range 5-15 million USD\n",
    "df_country3=df_country3[~np.isnan(df_country3['raised_amount_usd'])].loc[df_country3[\"raised_amount_usd\"].between(5, 15, inclusive = True)]\n",
    "df_country3.head()"
   ]
  },
  {
   "cell_type": "markdown",
   "metadata": {},
   "source": [
    "## Finding Number of Investments and Total Amount invested based on 'main_category'"
   ]
  },
  {
   "cell_type": "code",
   "execution_count": 27,
   "metadata": {},
   "outputs": [
    {
     "data": {
      "text/html": [
       "<div>\n",
       "<style scoped>\n",
       "    .dataframe tbody tr th:only-of-type {\n",
       "        vertical-align: middle;\n",
       "    }\n",
       "\n",
       "    .dataframe tbody tr th {\n",
       "        vertical-align: top;\n",
       "    }\n",
       "\n",
       "    .dataframe thead th {\n",
       "        text-align: right;\n",
       "    }\n",
       "</style>\n",
       "<table border=\"1\" class=\"dataframe\">\n",
       "  <thead>\n",
       "    <tr style=\"text-align: right;\">\n",
       "      <th></th>\n",
       "      <th>company_permalink</th>\n",
       "      <th>funding_round_type</th>\n",
       "      <th>raised_amount_usd</th>\n",
       "      <th>name</th>\n",
       "      <th>category_list</th>\n",
       "      <th>status</th>\n",
       "      <th>country_code</th>\n",
       "      <th>primary_category</th>\n",
       "      <th>main_category</th>\n",
       "      <th>count</th>\n",
       "    </tr>\n",
       "  </thead>\n",
       "  <tbody>\n",
       "    <tr>\n",
       "      <th>5</th>\n",
       "      <td>/organization/0xdata</td>\n",
       "      <td>venture</td>\n",
       "      <td>8.900000</td>\n",
       "      <td>H2O.ai</td>\n",
       "      <td>Analytics</td>\n",
       "      <td>operating</td>\n",
       "      <td>USA</td>\n",
       "      <td>Analytics</td>\n",
       "      <td>Social, Finance, Analytics, Advertising</td>\n",
       "      <td>2590</td>\n",
       "    </tr>\n",
       "    <tr>\n",
       "      <th>6</th>\n",
       "      <td>/organization/1-mainstream</td>\n",
       "      <td>venture</td>\n",
       "      <td>5.000000</td>\n",
       "      <td>1 Mainstream</td>\n",
       "      <td>Apps|Cable|Distribution|Software</td>\n",
       "      <td>acquired</td>\n",
       "      <td>USA</td>\n",
       "      <td>Apps</td>\n",
       "      <td>News, Search and Messaging</td>\n",
       "      <td>1465</td>\n",
       "    </tr>\n",
       "    <tr>\n",
       "      <th>28</th>\n",
       "      <td>/organization/128-technology</td>\n",
       "      <td>venture</td>\n",
       "      <td>11.999347</td>\n",
       "      <td>128 Technology</td>\n",
       "      <td>Service Providers|Technology</td>\n",
       "      <td>operating</td>\n",
       "      <td>USA</td>\n",
       "      <td>Service Providers</td>\n",
       "      <td>Others</td>\n",
       "      <td>2758</td>\n",
       "    </tr>\n",
       "    <tr>\n",
       "      <th>32</th>\n",
       "      <td>/organization/1366-technologies</td>\n",
       "      <td>venture</td>\n",
       "      <td>15.000000</td>\n",
       "      <td>1366 Technologies</td>\n",
       "      <td>Manufacturing</td>\n",
       "      <td>operating</td>\n",
       "      <td>USA</td>\n",
       "      <td>Manufacturing</td>\n",
       "      <td>Manufacturing</td>\n",
       "      <td>739</td>\n",
       "    </tr>\n",
       "    <tr>\n",
       "      <th>33</th>\n",
       "      <td>/organization/1366-technologies</td>\n",
       "      <td>venture</td>\n",
       "      <td>5.000000</td>\n",
       "      <td>1366 Technologies</td>\n",
       "      <td>Manufacturing</td>\n",
       "      <td>operating</td>\n",
       "      <td>USA</td>\n",
       "      <td>Manufacturing</td>\n",
       "      <td>Manufacturing</td>\n",
       "      <td>739</td>\n",
       "    </tr>\n",
       "  </tbody>\n",
       "</table>\n",
       "</div>"
      ],
      "text/plain": [
       "                  company_permalink funding_round_type  raised_amount_usd  \\\n",
       "5              /organization/0xdata            venture           8.900000   \n",
       "6        /organization/1-mainstream            venture           5.000000   \n",
       "28     /organization/128-technology            venture          11.999347   \n",
       "32  /organization/1366-technologies            venture          15.000000   \n",
       "33  /organization/1366-technologies            venture           5.000000   \n",
       "\n",
       "                 name                     category_list     status  \\\n",
       "5              H2O.ai                         Analytics  operating   \n",
       "6        1 Mainstream  Apps|Cable|Distribution|Software   acquired   \n",
       "28     128 Technology      Service Providers|Technology  operating   \n",
       "32  1366 Technologies                     Manufacturing  operating   \n",
       "33  1366 Technologies                     Manufacturing  operating   \n",
       "\n",
       "   country_code   primary_category                            main_category  \\\n",
       "5           USA          Analytics  Social, Finance, Analytics, Advertising   \n",
       "6           USA               Apps               News, Search and Messaging   \n",
       "28          USA  Service Providers                                   Others   \n",
       "32          USA      Manufacturing                            Manufacturing   \n",
       "33          USA      Manufacturing                            Manufacturing   \n",
       "\n",
       "    count  \n",
       "5    2590  \n",
       "6    1465  \n",
       "28   2758  \n",
       "32    739  \n",
       "33    739  "
      ]
     },
     "execution_count": 27,
     "metadata": {},
     "output_type": "execute_result"
    }
   ],
   "source": [
    "#Counting number of investments based on main_category and making it as a separate column\n",
    "df_country1['count']=df_country1.groupby('main_category')['raised_amount_usd'].transform('count');\n",
    "df_country1.head()"
   ]
  },
  {
   "cell_type": "code",
   "execution_count": 28,
   "metadata": {},
   "outputs": [
    {
     "data": {
      "text/html": [
       "<div>\n",
       "<style scoped>\n",
       "    .dataframe tbody tr th:only-of-type {\n",
       "        vertical-align: middle;\n",
       "    }\n",
       "\n",
       "    .dataframe tbody tr th {\n",
       "        vertical-align: top;\n",
       "    }\n",
       "\n",
       "    .dataframe thead th {\n",
       "        text-align: right;\n",
       "    }\n",
       "</style>\n",
       "<table border=\"1\" class=\"dataframe\">\n",
       "  <thead>\n",
       "    <tr style=\"text-align: right;\">\n",
       "      <th></th>\n",
       "      <th>company_permalink</th>\n",
       "      <th>funding_round_type</th>\n",
       "      <th>raised_amount_usd</th>\n",
       "      <th>name</th>\n",
       "      <th>category_list</th>\n",
       "      <th>status</th>\n",
       "      <th>country_code</th>\n",
       "      <th>primary_category</th>\n",
       "      <th>main_category</th>\n",
       "      <th>count</th>\n",
       "    </tr>\n",
       "  </thead>\n",
       "  <tbody>\n",
       "    <tr>\n",
       "      <th>146</th>\n",
       "      <td>/organization/365scores</td>\n",
       "      <td>venture</td>\n",
       "      <td>5.500000</td>\n",
       "      <td>365Scores</td>\n",
       "      <td>Android|Apps|iPhone|Mobile|Sports</td>\n",
       "      <td>operating</td>\n",
       "      <td>GBR</td>\n",
       "      <td>Android</td>\n",
       "      <td>Social, Finance, Analytics, Advertising</td>\n",
       "      <td>128</td>\n",
       "    </tr>\n",
       "    <tr>\n",
       "      <th>324</th>\n",
       "      <td>/organization/7digital</td>\n",
       "      <td>venture</td>\n",
       "      <td>8.468328</td>\n",
       "      <td>7digital</td>\n",
       "      <td>Content Creators|Content Delivery|Licensing|Mu...</td>\n",
       "      <td>acquired</td>\n",
       "      <td>GBR</td>\n",
       "      <td>Content Creators</td>\n",
       "      <td>Entertainment</td>\n",
       "      <td>53</td>\n",
       "    </tr>\n",
       "    <tr>\n",
       "      <th>325</th>\n",
       "      <td>/organization/7digital</td>\n",
       "      <td>venture</td>\n",
       "      <td>10.000000</td>\n",
       "      <td>7digital</td>\n",
       "      <td>Content Creators|Content Delivery|Licensing|Mu...</td>\n",
       "      <td>acquired</td>\n",
       "      <td>GBR</td>\n",
       "      <td>Content Creators</td>\n",
       "      <td>Entertainment</td>\n",
       "      <td>53</td>\n",
       "    </tr>\n",
       "    <tr>\n",
       "      <th>349</th>\n",
       "      <td>/organization/90min</td>\n",
       "      <td>venture</td>\n",
       "      <td>15.000000</td>\n",
       "      <td>90min</td>\n",
       "      <td>Media|News|Publishing|Soccer|Sports</td>\n",
       "      <td>operating</td>\n",
       "      <td>GBR</td>\n",
       "      <td>Media</td>\n",
       "      <td>Entertainment</td>\n",
       "      <td>53</td>\n",
       "    </tr>\n",
       "    <tr>\n",
       "      <th>350</th>\n",
       "      <td>/organization/90min</td>\n",
       "      <td>venture</td>\n",
       "      <td>5.800000</td>\n",
       "      <td>90min</td>\n",
       "      <td>Media|News|Publishing|Soccer|Sports</td>\n",
       "      <td>operating</td>\n",
       "      <td>GBR</td>\n",
       "      <td>Media</td>\n",
       "      <td>Entertainment</td>\n",
       "      <td>53</td>\n",
       "    </tr>\n",
       "  </tbody>\n",
       "</table>\n",
       "</div>"
      ],
      "text/plain": [
       "           company_permalink funding_round_type  raised_amount_usd       name  \\\n",
       "146  /organization/365scores            venture           5.500000  365Scores   \n",
       "324   /organization/7digital            venture           8.468328   7digital   \n",
       "325   /organization/7digital            venture          10.000000   7digital   \n",
       "349      /organization/90min            venture          15.000000      90min   \n",
       "350      /organization/90min            venture           5.800000      90min   \n",
       "\n",
       "                                         category_list     status  \\\n",
       "146                  Android|Apps|iPhone|Mobile|Sports  operating   \n",
       "324  Content Creators|Content Delivery|Licensing|Mu...   acquired   \n",
       "325  Content Creators|Content Delivery|Licensing|Mu...   acquired   \n",
       "349                Media|News|Publishing|Soccer|Sports  operating   \n",
       "350                Media|News|Publishing|Soccer|Sports  operating   \n",
       "\n",
       "    country_code  primary_category                            main_category  \\\n",
       "146          GBR           Android  Social, Finance, Analytics, Advertising   \n",
       "324          GBR  Content Creators                            Entertainment   \n",
       "325          GBR  Content Creators                            Entertainment   \n",
       "349          GBR             Media                            Entertainment   \n",
       "350          GBR             Media                            Entertainment   \n",
       "\n",
       "     count  \n",
       "146    128  \n",
       "324     53  \n",
       "325     53  \n",
       "349     53  \n",
       "350     53  "
      ]
     },
     "execution_count": 28,
     "metadata": {},
     "output_type": "execute_result"
    }
   ],
   "source": [
    "#Counting number of investments based on main_category and making it as a separate column\n",
    "df_country2['count']=df_country2.groupby('main_category')['raised_amount_usd'].transform('count');\n",
    "df_country2.head()"
   ]
  },
  {
   "cell_type": "code",
   "execution_count": 29,
   "metadata": {},
   "outputs": [
    {
     "data": {
      "text/html": [
       "<div>\n",
       "<style scoped>\n",
       "    .dataframe tbody tr th:only-of-type {\n",
       "        vertical-align: middle;\n",
       "    }\n",
       "\n",
       "    .dataframe tbody tr th {\n",
       "        vertical-align: top;\n",
       "    }\n",
       "\n",
       "    .dataframe thead th {\n",
       "        text-align: right;\n",
       "    }\n",
       "</style>\n",
       "<table border=\"1\" class=\"dataframe\">\n",
       "  <thead>\n",
       "    <tr style=\"text-align: right;\">\n",
       "      <th></th>\n",
       "      <th>company_permalink</th>\n",
       "      <th>funding_round_type</th>\n",
       "      <th>raised_amount_usd</th>\n",
       "      <th>name</th>\n",
       "      <th>category_list</th>\n",
       "      <th>status</th>\n",
       "      <th>country_code</th>\n",
       "      <th>primary_category</th>\n",
       "      <th>main_category</th>\n",
       "      <th>count</th>\n",
       "    </tr>\n",
       "  </thead>\n",
       "  <tbody>\n",
       "    <tr>\n",
       "      <th>0</th>\n",
       "      <td>/organization/-fame</td>\n",
       "      <td>venture</td>\n",
       "      <td>10.000000</td>\n",
       "      <td>#fame</td>\n",
       "      <td>Media</td>\n",
       "      <td>operating</td>\n",
       "      <td>IND</td>\n",
       "      <td>Media</td>\n",
       "      <td>Entertainment</td>\n",
       "      <td>32</td>\n",
       "    </tr>\n",
       "    <tr>\n",
       "      <th>74</th>\n",
       "      <td>/organization/21diamonds-india</td>\n",
       "      <td>venture</td>\n",
       "      <td>6.369507</td>\n",
       "      <td>21Diamonds</td>\n",
       "      <td>E-Commerce</td>\n",
       "      <td>operating</td>\n",
       "      <td>IND</td>\n",
       "      <td>E-Commerce</td>\n",
       "      <td>Others</td>\n",
       "      <td>103</td>\n",
       "    </tr>\n",
       "    <tr>\n",
       "      <th>381</th>\n",
       "      <td>/organization/a-little-world</td>\n",
       "      <td>venture</td>\n",
       "      <td>6.410000</td>\n",
       "      <td>A LITTLE WORLD</td>\n",
       "      <td>Finance</td>\n",
       "      <td>operating</td>\n",
       "      <td>IND</td>\n",
       "      <td>Finance</td>\n",
       "      <td>Social, Finance, Analytics, Advertising</td>\n",
       "      <td>59</td>\n",
       "    </tr>\n",
       "    <tr>\n",
       "      <th>1094</th>\n",
       "      <td>/organization/adlabs-imagica</td>\n",
       "      <td>venture</td>\n",
       "      <td>8.180000</td>\n",
       "      <td>Adlabs Imagica</td>\n",
       "      <td>Entertainment|Tourism</td>\n",
       "      <td>operating</td>\n",
       "      <td>IND</td>\n",
       "      <td>Entertainment</td>\n",
       "      <td>Entertainment</td>\n",
       "      <td>32</td>\n",
       "    </tr>\n",
       "    <tr>\n",
       "      <th>1494</th>\n",
       "      <td>/organization/agile</td>\n",
       "      <td>venture</td>\n",
       "      <td>5.740000</td>\n",
       "      <td>Agile</td>\n",
       "      <td>Finance|Finance Technology|FinTech|Insurance</td>\n",
       "      <td>operating</td>\n",
       "      <td>IND</td>\n",
       "      <td>Finance</td>\n",
       "      <td>Social, Finance, Analytics, Advertising</td>\n",
       "      <td>59</td>\n",
       "    </tr>\n",
       "  </tbody>\n",
       "</table>\n",
       "</div>"
      ],
      "text/plain": [
       "                   company_permalink funding_round_type  raised_amount_usd  \\\n",
       "0                /organization/-fame            venture          10.000000   \n",
       "74    /organization/21diamonds-india            venture           6.369507   \n",
       "381     /organization/a-little-world            venture           6.410000   \n",
       "1094    /organization/adlabs-imagica            venture           8.180000   \n",
       "1494             /organization/agile            venture           5.740000   \n",
       "\n",
       "                name                                 category_list     status  \\\n",
       "0              #fame                                         Media  operating   \n",
       "74        21Diamonds                                    E-Commerce  operating   \n",
       "381   A LITTLE WORLD                                       Finance  operating   \n",
       "1094  Adlabs Imagica                         Entertainment|Tourism  operating   \n",
       "1494           Agile  Finance|Finance Technology|FinTech|Insurance  operating   \n",
       "\n",
       "     country_code primary_category                            main_category  \\\n",
       "0             IND            Media                            Entertainment   \n",
       "74            IND       E-Commerce                                   Others   \n",
       "381           IND          Finance  Social, Finance, Analytics, Advertising   \n",
       "1094          IND    Entertainment                            Entertainment   \n",
       "1494          IND          Finance  Social, Finance, Analytics, Advertising   \n",
       "\n",
       "      count  \n",
       "0        32  \n",
       "74      103  \n",
       "381      59  \n",
       "1094     32  \n",
       "1494     59  "
      ]
     },
     "execution_count": 29,
     "metadata": {},
     "output_type": "execute_result"
    }
   ],
   "source": [
    "#Counting number of investments based on main_category and making it as a separate column\n",
    "df_country3['count']=df_country3.groupby('main_category')['raised_amount_usd'].transform('count');\n",
    "df_country3.head()"
   ]
  },
  {
   "cell_type": "code",
   "execution_count": 30,
   "metadata": {},
   "outputs": [
    {
     "data": {
      "text/html": [
       "<div>\n",
       "<style scoped>\n",
       "    .dataframe tbody tr th:only-of-type {\n",
       "        vertical-align: middle;\n",
       "    }\n",
       "\n",
       "    .dataframe tbody tr th {\n",
       "        vertical-align: top;\n",
       "    }\n",
       "\n",
       "    .dataframe thead th {\n",
       "        text-align: right;\n",
       "    }\n",
       "</style>\n",
       "<table border=\"1\" class=\"dataframe\">\n",
       "  <thead>\n",
       "    <tr style=\"text-align: right;\">\n",
       "      <th></th>\n",
       "      <th>company_permalink</th>\n",
       "      <th>funding_round_type</th>\n",
       "      <th>raised_amount_usd</th>\n",
       "      <th>name</th>\n",
       "      <th>category_list</th>\n",
       "      <th>status</th>\n",
       "      <th>country_code</th>\n",
       "      <th>primary_category</th>\n",
       "      <th>main_category</th>\n",
       "      <th>count</th>\n",
       "      <th>total_amount_invested</th>\n",
       "    </tr>\n",
       "  </thead>\n",
       "  <tbody>\n",
       "    <tr>\n",
       "      <th>5</th>\n",
       "      <td>/organization/0xdata</td>\n",
       "      <td>venture</td>\n",
       "      <td>8.900000</td>\n",
       "      <td>H2O.ai</td>\n",
       "      <td>Analytics</td>\n",
       "      <td>operating</td>\n",
       "      <td>USA</td>\n",
       "      <td>Analytics</td>\n",
       "      <td>Social, Finance, Analytics, Advertising</td>\n",
       "      <td>2590</td>\n",
       "      <td>22830.769582</td>\n",
       "    </tr>\n",
       "    <tr>\n",
       "      <th>6</th>\n",
       "      <td>/organization/1-mainstream</td>\n",
       "      <td>venture</td>\n",
       "      <td>5.000000</td>\n",
       "      <td>1 Mainstream</td>\n",
       "      <td>Apps|Cable|Distribution|Software</td>\n",
       "      <td>acquired</td>\n",
       "      <td>USA</td>\n",
       "      <td>Apps</td>\n",
       "      <td>News, Search and Messaging</td>\n",
       "      <td>1465</td>\n",
       "      <td>12988.908525</td>\n",
       "    </tr>\n",
       "    <tr>\n",
       "      <th>28</th>\n",
       "      <td>/organization/128-technology</td>\n",
       "      <td>venture</td>\n",
       "      <td>11.999347</td>\n",
       "      <td>128 Technology</td>\n",
       "      <td>Service Providers|Technology</td>\n",
       "      <td>operating</td>\n",
       "      <td>USA</td>\n",
       "      <td>Service Providers</td>\n",
       "      <td>Others</td>\n",
       "      <td>2758</td>\n",
       "      <td>24636.698580</td>\n",
       "    </tr>\n",
       "    <tr>\n",
       "      <th>32</th>\n",
       "      <td>/organization/1366-technologies</td>\n",
       "      <td>venture</td>\n",
       "      <td>15.000000</td>\n",
       "      <td>1366 Technologies</td>\n",
       "      <td>Manufacturing</td>\n",
       "      <td>operating</td>\n",
       "      <td>USA</td>\n",
       "      <td>Manufacturing</td>\n",
       "      <td>Manufacturing</td>\n",
       "      <td>739</td>\n",
       "      <td>6700.079468</td>\n",
       "    </tr>\n",
       "    <tr>\n",
       "      <th>33</th>\n",
       "      <td>/organization/1366-technologies</td>\n",
       "      <td>venture</td>\n",
       "      <td>5.000000</td>\n",
       "      <td>1366 Technologies</td>\n",
       "      <td>Manufacturing</td>\n",
       "      <td>operating</td>\n",
       "      <td>USA</td>\n",
       "      <td>Manufacturing</td>\n",
       "      <td>Manufacturing</td>\n",
       "      <td>739</td>\n",
       "      <td>6700.079468</td>\n",
       "    </tr>\n",
       "  </tbody>\n",
       "</table>\n",
       "</div>"
      ],
      "text/plain": [
       "                  company_permalink funding_round_type  raised_amount_usd  \\\n",
       "5              /organization/0xdata            venture           8.900000   \n",
       "6        /organization/1-mainstream            venture           5.000000   \n",
       "28     /organization/128-technology            venture          11.999347   \n",
       "32  /organization/1366-technologies            venture          15.000000   \n",
       "33  /organization/1366-technologies            venture           5.000000   \n",
       "\n",
       "                 name                     category_list     status  \\\n",
       "5              H2O.ai                         Analytics  operating   \n",
       "6        1 Mainstream  Apps|Cable|Distribution|Software   acquired   \n",
       "28     128 Technology      Service Providers|Technology  operating   \n",
       "32  1366 Technologies                     Manufacturing  operating   \n",
       "33  1366 Technologies                     Manufacturing  operating   \n",
       "\n",
       "   country_code   primary_category                            main_category  \\\n",
       "5           USA          Analytics  Social, Finance, Analytics, Advertising   \n",
       "6           USA               Apps               News, Search and Messaging   \n",
       "28          USA  Service Providers                                   Others   \n",
       "32          USA      Manufacturing                            Manufacturing   \n",
       "33          USA      Manufacturing                            Manufacturing   \n",
       "\n",
       "    count  total_amount_invested  \n",
       "5    2590           22830.769582  \n",
       "6    1465           12988.908525  \n",
       "28   2758           24636.698580  \n",
       "32    739            6700.079468  \n",
       "33    739            6700.079468  "
      ]
     },
     "execution_count": 30,
     "metadata": {},
     "output_type": "execute_result"
    }
   ],
   "source": [
    "#Total Amount invested in each main_sector is made as a separate column\n",
    "#Country 1 :USA\n",
    "df_country1['total_amount_invested']=df_country1.groupby('main_category')['raised_amount_usd'].transform('sum');\n",
    "df_country1.head()"
   ]
  },
  {
   "cell_type": "code",
   "execution_count": 31,
   "metadata": {},
   "outputs": [
    {
     "data": {
      "text/html": [
       "<div>\n",
       "<style scoped>\n",
       "    .dataframe tbody tr th:only-of-type {\n",
       "        vertical-align: middle;\n",
       "    }\n",
       "\n",
       "    .dataframe tbody tr th {\n",
       "        vertical-align: top;\n",
       "    }\n",
       "\n",
       "    .dataframe thead th {\n",
       "        text-align: right;\n",
       "    }\n",
       "</style>\n",
       "<table border=\"1\" class=\"dataframe\">\n",
       "  <thead>\n",
       "    <tr style=\"text-align: right;\">\n",
       "      <th></th>\n",
       "      <th>company_permalink</th>\n",
       "      <th>funding_round_type</th>\n",
       "      <th>raised_amount_usd</th>\n",
       "      <th>name</th>\n",
       "      <th>category_list</th>\n",
       "      <th>status</th>\n",
       "      <th>country_code</th>\n",
       "      <th>primary_category</th>\n",
       "      <th>main_category</th>\n",
       "      <th>count</th>\n",
       "      <th>total_amount_invested</th>\n",
       "    </tr>\n",
       "  </thead>\n",
       "  <tbody>\n",
       "    <tr>\n",
       "      <th>146</th>\n",
       "      <td>/organization/365scores</td>\n",
       "      <td>venture</td>\n",
       "      <td>5.500000</td>\n",
       "      <td>365Scores</td>\n",
       "      <td>Android|Apps|iPhone|Mobile|Sports</td>\n",
       "      <td>operating</td>\n",
       "      <td>GBR</td>\n",
       "      <td>Android</td>\n",
       "      <td>Social, Finance, Analytics, Advertising</td>\n",
       "      <td>128</td>\n",
       "      <td>1054.628102</td>\n",
       "    </tr>\n",
       "    <tr>\n",
       "      <th>324</th>\n",
       "      <td>/organization/7digital</td>\n",
       "      <td>venture</td>\n",
       "      <td>8.468328</td>\n",
       "      <td>7digital</td>\n",
       "      <td>Content Creators|Content Delivery|Licensing|Mu...</td>\n",
       "      <td>acquired</td>\n",
       "      <td>GBR</td>\n",
       "      <td>Content Creators</td>\n",
       "      <td>Entertainment</td>\n",
       "      <td>53</td>\n",
       "      <td>463.514687</td>\n",
       "    </tr>\n",
       "    <tr>\n",
       "      <th>325</th>\n",
       "      <td>/organization/7digital</td>\n",
       "      <td>venture</td>\n",
       "      <td>10.000000</td>\n",
       "      <td>7digital</td>\n",
       "      <td>Content Creators|Content Delivery|Licensing|Mu...</td>\n",
       "      <td>acquired</td>\n",
       "      <td>GBR</td>\n",
       "      <td>Content Creators</td>\n",
       "      <td>Entertainment</td>\n",
       "      <td>53</td>\n",
       "      <td>463.514687</td>\n",
       "    </tr>\n",
       "    <tr>\n",
       "      <th>349</th>\n",
       "      <td>/organization/90min</td>\n",
       "      <td>venture</td>\n",
       "      <td>15.000000</td>\n",
       "      <td>90min</td>\n",
       "      <td>Media|News|Publishing|Soccer|Sports</td>\n",
       "      <td>operating</td>\n",
       "      <td>GBR</td>\n",
       "      <td>Media</td>\n",
       "      <td>Entertainment</td>\n",
       "      <td>53</td>\n",
       "      <td>463.514687</td>\n",
       "    </tr>\n",
       "    <tr>\n",
       "      <th>350</th>\n",
       "      <td>/organization/90min</td>\n",
       "      <td>venture</td>\n",
       "      <td>5.800000</td>\n",
       "      <td>90min</td>\n",
       "      <td>Media|News|Publishing|Soccer|Sports</td>\n",
       "      <td>operating</td>\n",
       "      <td>GBR</td>\n",
       "      <td>Media</td>\n",
       "      <td>Entertainment</td>\n",
       "      <td>53</td>\n",
       "      <td>463.514687</td>\n",
       "    </tr>\n",
       "  </tbody>\n",
       "</table>\n",
       "</div>"
      ],
      "text/plain": [
       "           company_permalink funding_round_type  raised_amount_usd       name  \\\n",
       "146  /organization/365scores            venture           5.500000  365Scores   \n",
       "324   /organization/7digital            venture           8.468328   7digital   \n",
       "325   /organization/7digital            venture          10.000000   7digital   \n",
       "349      /organization/90min            venture          15.000000      90min   \n",
       "350      /organization/90min            venture           5.800000      90min   \n",
       "\n",
       "                                         category_list     status  \\\n",
       "146                  Android|Apps|iPhone|Mobile|Sports  operating   \n",
       "324  Content Creators|Content Delivery|Licensing|Mu...   acquired   \n",
       "325  Content Creators|Content Delivery|Licensing|Mu...   acquired   \n",
       "349                Media|News|Publishing|Soccer|Sports  operating   \n",
       "350                Media|News|Publishing|Soccer|Sports  operating   \n",
       "\n",
       "    country_code  primary_category                            main_category  \\\n",
       "146          GBR           Android  Social, Finance, Analytics, Advertising   \n",
       "324          GBR  Content Creators                            Entertainment   \n",
       "325          GBR  Content Creators                            Entertainment   \n",
       "349          GBR             Media                            Entertainment   \n",
       "350          GBR             Media                            Entertainment   \n",
       "\n",
       "     count  total_amount_invested  \n",
       "146    128            1054.628102  \n",
       "324     53             463.514687  \n",
       "325     53             463.514687  \n",
       "349     53             463.514687  \n",
       "350     53             463.514687  "
      ]
     },
     "execution_count": 31,
     "metadata": {},
     "output_type": "execute_result"
    }
   ],
   "source": [
    "#Total Amount invested in each main_sector is made as a separate column\n",
    "# Country 2: GBR\n",
    "df_country2['total_amount_invested']=df_country2.groupby('main_category')['raised_amount_usd'].transform('sum');\n",
    "df_country2.head()"
   ]
  },
  {
   "cell_type": "code",
   "execution_count": 32,
   "metadata": {},
   "outputs": [
    {
     "data": {
      "text/html": [
       "<div>\n",
       "<style scoped>\n",
       "    .dataframe tbody tr th:only-of-type {\n",
       "        vertical-align: middle;\n",
       "    }\n",
       "\n",
       "    .dataframe tbody tr th {\n",
       "        vertical-align: top;\n",
       "    }\n",
       "\n",
       "    .dataframe thead th {\n",
       "        text-align: right;\n",
       "    }\n",
       "</style>\n",
       "<table border=\"1\" class=\"dataframe\">\n",
       "  <thead>\n",
       "    <tr style=\"text-align: right;\">\n",
       "      <th></th>\n",
       "      <th>company_permalink</th>\n",
       "      <th>funding_round_type</th>\n",
       "      <th>raised_amount_usd</th>\n",
       "      <th>name</th>\n",
       "      <th>category_list</th>\n",
       "      <th>status</th>\n",
       "      <th>country_code</th>\n",
       "      <th>primary_category</th>\n",
       "      <th>main_category</th>\n",
       "      <th>count</th>\n",
       "      <th>total_amount_invested</th>\n",
       "    </tr>\n",
       "  </thead>\n",
       "  <tbody>\n",
       "    <tr>\n",
       "      <th>0</th>\n",
       "      <td>/organization/-fame</td>\n",
       "      <td>venture</td>\n",
       "      <td>10.000000</td>\n",
       "      <td>#fame</td>\n",
       "      <td>Media</td>\n",
       "      <td>operating</td>\n",
       "      <td>IND</td>\n",
       "      <td>Media</td>\n",
       "      <td>Entertainment</td>\n",
       "      <td>32</td>\n",
       "      <td>272.080000</td>\n",
       "    </tr>\n",
       "    <tr>\n",
       "      <th>74</th>\n",
       "      <td>/organization/21diamonds-india</td>\n",
       "      <td>venture</td>\n",
       "      <td>6.369507</td>\n",
       "      <td>21Diamonds</td>\n",
       "      <td>E-Commerce</td>\n",
       "      <td>operating</td>\n",
       "      <td>IND</td>\n",
       "      <td>E-Commerce</td>\n",
       "      <td>Others</td>\n",
       "      <td>103</td>\n",
       "      <td>940.289507</td>\n",
       "    </tr>\n",
       "    <tr>\n",
       "      <th>381</th>\n",
       "      <td>/organization/a-little-world</td>\n",
       "      <td>venture</td>\n",
       "      <td>6.410000</td>\n",
       "      <td>A LITTLE WORLD</td>\n",
       "      <td>Finance</td>\n",
       "      <td>operating</td>\n",
       "      <td>IND</td>\n",
       "      <td>Finance</td>\n",
       "      <td>Social, Finance, Analytics, Advertising</td>\n",
       "      <td>59</td>\n",
       "      <td>535.549550</td>\n",
       "    </tr>\n",
       "    <tr>\n",
       "      <th>1094</th>\n",
       "      <td>/organization/adlabs-imagica</td>\n",
       "      <td>venture</td>\n",
       "      <td>8.180000</td>\n",
       "      <td>Adlabs Imagica</td>\n",
       "      <td>Entertainment|Tourism</td>\n",
       "      <td>operating</td>\n",
       "      <td>IND</td>\n",
       "      <td>Entertainment</td>\n",
       "      <td>Entertainment</td>\n",
       "      <td>32</td>\n",
       "      <td>272.080000</td>\n",
       "    </tr>\n",
       "    <tr>\n",
       "      <th>1494</th>\n",
       "      <td>/organization/agile</td>\n",
       "      <td>venture</td>\n",
       "      <td>5.740000</td>\n",
       "      <td>Agile</td>\n",
       "      <td>Finance|Finance Technology|FinTech|Insurance</td>\n",
       "      <td>operating</td>\n",
       "      <td>IND</td>\n",
       "      <td>Finance</td>\n",
       "      <td>Social, Finance, Analytics, Advertising</td>\n",
       "      <td>59</td>\n",
       "      <td>535.549550</td>\n",
       "    </tr>\n",
       "  </tbody>\n",
       "</table>\n",
       "</div>"
      ],
      "text/plain": [
       "                   company_permalink funding_round_type  raised_amount_usd  \\\n",
       "0                /organization/-fame            venture          10.000000   \n",
       "74    /organization/21diamonds-india            venture           6.369507   \n",
       "381     /organization/a-little-world            venture           6.410000   \n",
       "1094    /organization/adlabs-imagica            venture           8.180000   \n",
       "1494             /organization/agile            venture           5.740000   \n",
       "\n",
       "                name                                 category_list     status  \\\n",
       "0              #fame                                         Media  operating   \n",
       "74        21Diamonds                                    E-Commerce  operating   \n",
       "381   A LITTLE WORLD                                       Finance  operating   \n",
       "1094  Adlabs Imagica                         Entertainment|Tourism  operating   \n",
       "1494           Agile  Finance|Finance Technology|FinTech|Insurance  operating   \n",
       "\n",
       "     country_code primary_category                            main_category  \\\n",
       "0             IND            Media                            Entertainment   \n",
       "74            IND       E-Commerce                                   Others   \n",
       "381           IND          Finance  Social, Finance, Analytics, Advertising   \n",
       "1094          IND    Entertainment                            Entertainment   \n",
       "1494          IND          Finance  Social, Finance, Analytics, Advertising   \n",
       "\n",
       "      count  total_amount_invested  \n",
       "0        32             272.080000  \n",
       "74      103             940.289507  \n",
       "381      59             535.549550  \n",
       "1094     32             272.080000  \n",
       "1494     59             535.549550  "
      ]
     },
     "execution_count": 32,
     "metadata": {},
     "output_type": "execute_result"
    }
   ],
   "source": [
    "#Total Amount invested in each main_sector is made as a separate column\n",
    "#Country 3: IND\n",
    "df_country3['total_amount_invested']=df_country3.groupby('main_category')['raised_amount_usd'].transform('sum');\n",
    "df_country3.head()"
   ]
  },
  {
   "cell_type": "markdown",
   "metadata": {},
   "source": [
    "## Total Number of Investments in USA"
   ]
  },
  {
   "cell_type": "code",
   "execution_count": 33,
   "metadata": {},
   "outputs": [
    {
     "data": {
      "text/plain": [
       "11286"
      ]
     },
     "execution_count": 33,
     "metadata": {},
     "output_type": "execute_result"
    }
   ],
   "source": [
    "#Total Number of Investments\n",
    "#Country 1: USA\n",
    "df_country1['raised_amount_usd'].count()"
   ]
  },
  {
   "cell_type": "markdown",
   "metadata": {},
   "source": [
    "## Total Number of Investments in GBR"
   ]
  },
  {
   "cell_type": "code",
   "execution_count": 34,
   "metadata": {},
   "outputs": [
    {
     "data": {
      "text/plain": [
       "582"
      ]
     },
     "execution_count": 34,
     "metadata": {},
     "output_type": "execute_result"
    }
   ],
   "source": [
    "#Total Number of Investments\n",
    "#Country 2: GBR\n",
    "df_country2['raised_amount_usd'].count()"
   ]
  },
  {
   "cell_type": "markdown",
   "metadata": {},
   "source": [
    "## Total Number of Investments in IND"
   ]
  },
  {
   "cell_type": "code",
   "execution_count": 35,
   "metadata": {},
   "outputs": [
    {
     "data": {
      "text/plain": [
       "315"
      ]
     },
     "execution_count": 35,
     "metadata": {},
     "output_type": "execute_result"
    }
   ],
   "source": [
    "#Total Number of Investments\n",
    "#Country 3: IND\n",
    "df_country3['raised_amount_usd'].count()"
   ]
  },
  {
   "cell_type": "markdown",
   "metadata": {},
   "source": [
    "## Total Amount of Investment in USA"
   ]
  },
  {
   "cell_type": "code",
   "execution_count": 36,
   "metadata": {},
   "outputs": [
    {
     "data": {
      "text/plain": [
       "101000.66677899999"
      ]
     },
     "execution_count": 36,
     "metadata": {},
     "output_type": "execute_result"
    }
   ],
   "source": [
    "#Total Amount of Investment\n",
    "#Country 1: USA\n",
    "df_country1['raised_amount_usd'].sum()"
   ]
  },
  {
   "cell_type": "markdown",
   "metadata": {},
   "source": [
    "## Total Amount of Investment in GBR"
   ]
  },
  {
   "cell_type": "code",
   "execution_count": 37,
   "metadata": {},
   "outputs": [
    {
     "data": {
      "text/plain": [
       "5053.293406000001"
      ]
     },
     "execution_count": 37,
     "metadata": {},
     "output_type": "execute_result"
    }
   ],
   "source": [
    "#Total Amount of Investment\n",
    "#Country 2: GBR\n",
    "df_country2['raised_amount_usd'].sum()"
   ]
  },
  {
   "cell_type": "markdown",
   "metadata": {},
   "source": [
    "## Total Amount of Investment in IND"
   ]
  },
  {
   "cell_type": "code",
   "execution_count": 38,
   "metadata": {},
   "outputs": [
    {
     "data": {
      "text/plain": [
       "2820.673602"
      ]
     },
     "execution_count": 38,
     "metadata": {},
     "output_type": "execute_result"
    }
   ],
   "source": [
    "#Total Amount of Investment\n",
    "#Country 3: IND\n",
    "df_country3['raised_amount_usd'].sum()"
   ]
  },
  {
   "cell_type": "markdown",
   "metadata": {},
   "source": [
    "## Finding top 3 investment sectors in each country and their corresponding number of investments"
   ]
  },
  {
   "cell_type": "markdown",
   "metadata": {},
   "source": [
    "## Top 3 investment sectors in USA"
   ]
  },
  {
   "cell_type": "code",
   "execution_count": 39,
   "metadata": {},
   "outputs": [
    {
     "data": {
      "text/html": [
       "<div>\n",
       "<style scoped>\n",
       "    .dataframe tbody tr th:only-of-type {\n",
       "        vertical-align: middle;\n",
       "    }\n",
       "\n",
       "    .dataframe tbody tr th {\n",
       "        vertical-align: top;\n",
       "    }\n",
       "\n",
       "    .dataframe thead th {\n",
       "        text-align: right;\n",
       "    }\n",
       "</style>\n",
       "<table border=\"1\" class=\"dataframe\">\n",
       "  <thead>\n",
       "    <tr style=\"text-align: right;\">\n",
       "      <th></th>\n",
       "      <th>main_category</th>\n",
       "      <th>raised_amount_usd</th>\n",
       "    </tr>\n",
       "  </thead>\n",
       "  <tbody>\n",
       "    <tr>\n",
       "      <th>6</th>\n",
       "      <td>Others</td>\n",
       "      <td>2758</td>\n",
       "    </tr>\n",
       "    <tr>\n",
       "      <th>7</th>\n",
       "      <td>Social, Finance, Analytics, Advertising</td>\n",
       "      <td>2590</td>\n",
       "    </tr>\n",
       "    <tr>\n",
       "      <th>1</th>\n",
       "      <td>Cleantech / Semiconductors</td>\n",
       "      <td>2192</td>\n",
       "    </tr>\n",
       "  </tbody>\n",
       "</table>\n",
       "</div>"
      ],
      "text/plain": [
       "                             main_category  raised_amount_usd\n",
       "6                                   Others               2758\n",
       "7  Social, Finance, Analytics, Advertising               2590\n",
       "1               Cleantech / Semiconductors               2192"
      ]
     },
     "execution_count": 39,
     "metadata": {},
     "output_type": "execute_result"
    }
   ],
   "source": [
    "#Finding top 3 investment sectors in each country and their corresponding number of investments\n",
    "#Country 1: USA\n",
    "df_country1.groupby('main_category',as_index=False)['raised_amount_usd'].count().sort_values(by='raised_amount_usd',ascending=False).head(3)\n"
   ]
  },
  {
   "cell_type": "markdown",
   "metadata": {},
   "source": [
    "## Top 3 investment sectors in GBR"
   ]
  },
  {
   "cell_type": "code",
   "execution_count": 40,
   "metadata": {},
   "outputs": [
    {
     "data": {
      "text/html": [
       "<div>\n",
       "<style scoped>\n",
       "    .dataframe tbody tr th:only-of-type {\n",
       "        vertical-align: middle;\n",
       "    }\n",
       "\n",
       "    .dataframe tbody tr th {\n",
       "        vertical-align: top;\n",
       "    }\n",
       "\n",
       "    .dataframe thead th {\n",
       "        text-align: right;\n",
       "    }\n",
       "</style>\n",
       "<table border=\"1\" class=\"dataframe\">\n",
       "  <thead>\n",
       "    <tr style=\"text-align: right;\">\n",
       "      <th></th>\n",
       "      <th>main_category</th>\n",
       "      <th>raised_amount_usd</th>\n",
       "    </tr>\n",
       "  </thead>\n",
       "  <tbody>\n",
       "    <tr>\n",
       "      <th>6</th>\n",
       "      <td>Others</td>\n",
       "      <td>140</td>\n",
       "    </tr>\n",
       "    <tr>\n",
       "      <th>7</th>\n",
       "      <td>Social, Finance, Analytics, Advertising</td>\n",
       "      <td>128</td>\n",
       "    </tr>\n",
       "    <tr>\n",
       "      <th>1</th>\n",
       "      <td>Cleantech / Semiconductors</td>\n",
       "      <td>116</td>\n",
       "    </tr>\n",
       "  </tbody>\n",
       "</table>\n",
       "</div>"
      ],
      "text/plain": [
       "                             main_category  raised_amount_usd\n",
       "6                                   Others                140\n",
       "7  Social, Finance, Analytics, Advertising                128\n",
       "1               Cleantech / Semiconductors                116"
      ]
     },
     "execution_count": 40,
     "metadata": {},
     "output_type": "execute_result"
    }
   ],
   "source": [
    "#Finding top 3 investment sectors in each country and their corresponding number of investments\n",
    "#Country 2: GBR\n",
    "df_country2.groupby('main_category',as_index=False)['raised_amount_usd'].count().sort_values(by='raised_amount_usd',ascending=False).head(3)"
   ]
  },
  {
   "cell_type": "markdown",
   "metadata": {},
   "source": [
    "## Top 3 investment sectors in IND"
   ]
  },
  {
   "cell_type": "code",
   "execution_count": 41,
   "metadata": {},
   "outputs": [
    {
     "data": {
      "text/html": [
       "<div>\n",
       "<style scoped>\n",
       "    .dataframe tbody tr th:only-of-type {\n",
       "        vertical-align: middle;\n",
       "    }\n",
       "\n",
       "    .dataframe tbody tr th {\n",
       "        vertical-align: top;\n",
       "    }\n",
       "\n",
       "    .dataframe thead th {\n",
       "        text-align: right;\n",
       "    }\n",
       "</style>\n",
       "<table border=\"1\" class=\"dataframe\">\n",
       "  <thead>\n",
       "    <tr style=\"text-align: right;\">\n",
       "      <th></th>\n",
       "      <th>main_category</th>\n",
       "      <th>raised_amount_usd</th>\n",
       "    </tr>\n",
       "  </thead>\n",
       "  <tbody>\n",
       "    <tr>\n",
       "      <th>6</th>\n",
       "      <td>Others</td>\n",
       "      <td>103</td>\n",
       "    </tr>\n",
       "    <tr>\n",
       "      <th>7</th>\n",
       "      <td>Social, Finance, Analytics, Advertising</td>\n",
       "      <td>59</td>\n",
       "    </tr>\n",
       "    <tr>\n",
       "      <th>5</th>\n",
       "      <td>News, Search and Messaging</td>\n",
       "      <td>49</td>\n",
       "    </tr>\n",
       "  </tbody>\n",
       "</table>\n",
       "</div>"
      ],
      "text/plain": [
       "                             main_category  raised_amount_usd\n",
       "6                                   Others                103\n",
       "7  Social, Finance, Analytics, Advertising                 59\n",
       "5               News, Search and Messaging                 49"
      ]
     },
     "execution_count": 41,
     "metadata": {},
     "output_type": "execute_result"
    }
   ],
   "source": [
    "#Finding top 3 investment sectors in each country and their corresponding number of investments\n",
    "#Country 3: IND\n",
    "df_country3.groupby('main_category',as_index=False)['raised_amount_usd'].count().sort_values(by='raised_amount_usd',ascending=False).head(3)"
   ]
  },
  {
   "cell_type": "markdown",
   "metadata": {},
   "source": [
    "## Finding Most Invested Company in top 2 sectors in each country"
   ]
  },
  {
   "cell_type": "markdown",
   "metadata": {},
   "source": [
    "## Most Invested Company in USA in top Sector"
   ]
  },
  {
   "cell_type": "code",
   "execution_count": 42,
   "metadata": {},
   "outputs": [
    {
     "data": {
      "text/html": [
       "<div>\n",
       "<style scoped>\n",
       "    .dataframe tbody tr th:only-of-type {\n",
       "        vertical-align: middle;\n",
       "    }\n",
       "\n",
       "    .dataframe tbody tr th {\n",
       "        vertical-align: top;\n",
       "    }\n",
       "\n",
       "    .dataframe thead th {\n",
       "        text-align: right;\n",
       "    }\n",
       "</style>\n",
       "<table border=\"1\" class=\"dataframe\">\n",
       "  <thead>\n",
       "    <tr style=\"text-align: right;\">\n",
       "      <th></th>\n",
       "      <th></th>\n",
       "      <th>raised_amount_usd</th>\n",
       "      <th>count</th>\n",
       "      <th>total_amount_invested</th>\n",
       "    </tr>\n",
       "    <tr>\n",
       "      <th>main_category</th>\n",
       "      <th>company_permalink</th>\n",
       "      <th></th>\n",
       "      <th></th>\n",
       "      <th></th>\n",
       "    </tr>\n",
       "  </thead>\n",
       "  <tbody>\n",
       "    <tr>\n",
       "      <th>Others</th>\n",
       "      <th>/organization/virtustream</th>\n",
       "      <td>64.3</td>\n",
       "      <td>16548</td>\n",
       "      <td>147820.19148</td>\n",
       "    </tr>\n",
       "  </tbody>\n",
       "</table>\n",
       "</div>"
      ],
      "text/plain": [
       "                                         raised_amount_usd  count  \\\n",
       "main_category company_permalink                                     \n",
       "Others        /organization/virtustream               64.3  16548   \n",
       "\n",
       "                                         total_amount_invested  \n",
       "main_category company_permalink                                 \n",
       "Others        /organization/virtustream           147820.19148  "
      ]
     },
     "execution_count": 42,
     "metadata": {},
     "output_type": "execute_result"
    }
   ],
   "source": [
    "#Most Invested Company in USA in top Sector 'Others'\n",
    "df_country1[df_country1[\"main_category\"]=='Others'].groupby(['main_category','company_permalink']).sum().sort_values('raised_amount_usd',ascending=False).head(1)"
   ]
  },
  {
   "cell_type": "markdown",
   "metadata": {},
   "source": [
    "## Most Invested Company in GBR in top Sector "
   ]
  },
  {
   "cell_type": "code",
   "execution_count": 43,
   "metadata": {},
   "outputs": [
    {
     "data": {
      "text/html": [
       "<div>\n",
       "<style scoped>\n",
       "    .dataframe tbody tr th:only-of-type {\n",
       "        vertical-align: middle;\n",
       "    }\n",
       "\n",
       "    .dataframe tbody tr th {\n",
       "        vertical-align: top;\n",
       "    }\n",
       "\n",
       "    .dataframe thead th {\n",
       "        text-align: right;\n",
       "    }\n",
       "</style>\n",
       "<table border=\"1\" class=\"dataframe\">\n",
       "  <thead>\n",
       "    <tr style=\"text-align: right;\">\n",
       "      <th></th>\n",
       "      <th></th>\n",
       "      <th>raised_amount_usd</th>\n",
       "      <th>count</th>\n",
       "      <th>total_amount_invested</th>\n",
       "    </tr>\n",
       "    <tr>\n",
       "      <th>main_category</th>\n",
       "      <th>company_permalink</th>\n",
       "      <th></th>\n",
       "      <th></th>\n",
       "      <th></th>\n",
       "    </tr>\n",
       "  </thead>\n",
       "  <tbody>\n",
       "    <tr>\n",
       "      <th>Others</th>\n",
       "      <th>/organization/electric-cloud</th>\n",
       "      <td>37.0</td>\n",
       "      <td>560</td>\n",
       "      <td>4861.76896</td>\n",
       "    </tr>\n",
       "  </tbody>\n",
       "</table>\n",
       "</div>"
      ],
      "text/plain": [
       "                                            raised_amount_usd  count  \\\n",
       "main_category company_permalink                                        \n",
       "Others        /organization/electric-cloud               37.0    560   \n",
       "\n",
       "                                            total_amount_invested  \n",
       "main_category company_permalink                                    \n",
       "Others        /organization/electric-cloud             4861.76896  "
      ]
     },
     "execution_count": 43,
     "metadata": {},
     "output_type": "execute_result"
    }
   ],
   "source": [
    "# Most Invested Company in GBR in top Sector 'Others'\n",
    "df_country2[df_country2[\"main_category\"]=='Others'].groupby(['main_category','company_permalink']).sum().sort_values('raised_amount_usd',ascending=False).head(1)\n"
   ]
  },
  {
   "cell_type": "markdown",
   "metadata": {},
   "source": [
    "## Most Invested Company in IND in top Sector "
   ]
  },
  {
   "cell_type": "code",
   "execution_count": 44,
   "metadata": {},
   "outputs": [
    {
     "data": {
      "text/html": [
       "<div>\n",
       "<style scoped>\n",
       "    .dataframe tbody tr th:only-of-type {\n",
       "        vertical-align: middle;\n",
       "    }\n",
       "\n",
       "    .dataframe tbody tr th {\n",
       "        vertical-align: top;\n",
       "    }\n",
       "\n",
       "    .dataframe thead th {\n",
       "        text-align: right;\n",
       "    }\n",
       "</style>\n",
       "<table border=\"1\" class=\"dataframe\">\n",
       "  <thead>\n",
       "    <tr style=\"text-align: right;\">\n",
       "      <th></th>\n",
       "      <th></th>\n",
       "      <th>raised_amount_usd</th>\n",
       "      <th>count</th>\n",
       "      <th>total_amount_invested</th>\n",
       "    </tr>\n",
       "    <tr>\n",
       "      <th>main_category</th>\n",
       "      <th>company_permalink</th>\n",
       "      <th></th>\n",
       "      <th></th>\n",
       "      <th></th>\n",
       "    </tr>\n",
       "  </thead>\n",
       "  <tbody>\n",
       "    <tr>\n",
       "      <th>Others</th>\n",
       "      <th>/organization/firstcry-com</th>\n",
       "      <td>39.0</td>\n",
       "      <td>309</td>\n",
       "      <td>2820.868521</td>\n",
       "    </tr>\n",
       "  </tbody>\n",
       "</table>\n",
       "</div>"
      ],
      "text/plain": [
       "                                          raised_amount_usd  count  \\\n",
       "main_category company_permalink                                      \n",
       "Others        /organization/firstcry-com               39.0    309   \n",
       "\n",
       "                                          total_amount_invested  \n",
       "main_category company_permalink                                  \n",
       "Others        /organization/firstcry-com            2820.868521  "
      ]
     },
     "execution_count": 44,
     "metadata": {},
     "output_type": "execute_result"
    }
   ],
   "source": [
    "# Most Invested Company in IND in top Sector 'Others'\n",
    "df_country3[df_country3[\"main_category\"]=='Others'].groupby(['main_category','company_permalink']).sum().sort_values('raised_amount_usd',ascending=False).head(1)"
   ]
  },
  {
   "cell_type": "markdown",
   "metadata": {},
   "source": [
    "## Most Invested Company in USA in 2nd top Sector "
   ]
  },
  {
   "cell_type": "code",
   "execution_count": 45,
   "metadata": {},
   "outputs": [
    {
     "data": {
      "text/html": [
       "<div>\n",
       "<style scoped>\n",
       "    .dataframe tbody tr th:only-of-type {\n",
       "        vertical-align: middle;\n",
       "    }\n",
       "\n",
       "    .dataframe tbody tr th {\n",
       "        vertical-align: top;\n",
       "    }\n",
       "\n",
       "    .dataframe thead th {\n",
       "        text-align: right;\n",
       "    }\n",
       "</style>\n",
       "<table border=\"1\" class=\"dataframe\">\n",
       "  <thead>\n",
       "    <tr style=\"text-align: right;\">\n",
       "      <th></th>\n",
       "      <th></th>\n",
       "      <th>raised_amount_usd</th>\n",
       "      <th>count</th>\n",
       "      <th>total_amount_invested</th>\n",
       "    </tr>\n",
       "    <tr>\n",
       "      <th>main_category</th>\n",
       "      <th>company_permalink</th>\n",
       "      <th></th>\n",
       "      <th></th>\n",
       "      <th></th>\n",
       "    </tr>\n",
       "  </thead>\n",
       "  <tbody>\n",
       "    <tr>\n",
       "      <th>Social, Finance, Analytics, Advertising</th>\n",
       "      <th>/organization/shotspotter</th>\n",
       "      <td>67.933006</td>\n",
       "      <td>18130</td>\n",
       "      <td>159815.387074</td>\n",
       "    </tr>\n",
       "  </tbody>\n",
       "</table>\n",
       "</div>"
      ],
      "text/plain": [
       "                                                                   raised_amount_usd  \\\n",
       "main_category                           company_permalink                              \n",
       "Social, Finance, Analytics, Advertising /organization/shotspotter          67.933006   \n",
       "\n",
       "                                                                   count  \\\n",
       "main_category                           company_permalink                  \n",
       "Social, Finance, Analytics, Advertising /organization/shotspotter  18130   \n",
       "\n",
       "                                                                   total_amount_invested  \n",
       "main_category                           company_permalink                                 \n",
       "Social, Finance, Analytics, Advertising /organization/shotspotter          159815.387074  "
      ]
     },
     "execution_count": 45,
     "metadata": {},
     "output_type": "execute_result"
    }
   ],
   "source": [
    "# Most Invested Company in USA in 2nd top Sector 'Social, Finance, Analytics, Advertising'\n",
    "df_country1[df_country1[\"main_category\"]=='Social, Finance, Analytics, Advertising'].groupby(['main_category','company_permalink']).sum().sort_values('raised_amount_usd',ascending=False).head(1)"
   ]
  },
  {
   "cell_type": "markdown",
   "metadata": {},
   "source": [
    "## Most Invested Company in GBR in 2nd top Sector"
   ]
  },
  {
   "cell_type": "code",
   "execution_count": 46,
   "metadata": {},
   "outputs": [
    {
     "data": {
      "text/html": [
       "<div>\n",
       "<style scoped>\n",
       "    .dataframe tbody tr th:only-of-type {\n",
       "        vertical-align: middle;\n",
       "    }\n",
       "\n",
       "    .dataframe tbody tr th {\n",
       "        vertical-align: top;\n",
       "    }\n",
       "\n",
       "    .dataframe thead th {\n",
       "        text-align: right;\n",
       "    }\n",
       "</style>\n",
       "<table border=\"1\" class=\"dataframe\">\n",
       "  <thead>\n",
       "    <tr style=\"text-align: right;\">\n",
       "      <th></th>\n",
       "      <th></th>\n",
       "      <th>raised_amount_usd</th>\n",
       "      <th>count</th>\n",
       "      <th>total_amount_invested</th>\n",
       "    </tr>\n",
       "    <tr>\n",
       "      <th>main_category</th>\n",
       "      <th>company_permalink</th>\n",
       "      <th></th>\n",
       "      <th></th>\n",
       "      <th></th>\n",
       "    </tr>\n",
       "  </thead>\n",
       "  <tbody>\n",
       "    <tr>\n",
       "      <th>Social, Finance, Analytics, Advertising</th>\n",
       "      <th>/organization/celltick-technologies</th>\n",
       "      <td>37.5</td>\n",
       "      <td>512</td>\n",
       "      <td>4218.512408</td>\n",
       "    </tr>\n",
       "  </tbody>\n",
       "</table>\n",
       "</div>"
      ],
      "text/plain": [
       "                                                                             raised_amount_usd  \\\n",
       "main_category                           company_permalink                                        \n",
       "Social, Finance, Analytics, Advertising /organization/celltick-technologies               37.5   \n",
       "\n",
       "                                                                             count  \\\n",
       "main_category                           company_permalink                            \n",
       "Social, Finance, Analytics, Advertising /organization/celltick-technologies    512   \n",
       "\n",
       "                                                                             total_amount_invested  \n",
       "main_category                           company_permalink                                           \n",
       "Social, Finance, Analytics, Advertising /organization/celltick-technologies            4218.512408  "
      ]
     },
     "execution_count": 46,
     "metadata": {},
     "output_type": "execute_result"
    }
   ],
   "source": [
    "# Most Invested Company in GBR in 2nd top Sector 'Social, Finance, Analytics, Advertising'\n",
    "df_country2[df_country2[\"main_category\"]=='Social, Finance, Analytics, Advertising'].groupby(['main_category','company_permalink']).sum().sort_values('raised_amount_usd',ascending=False).head(1)"
   ]
  },
  {
   "cell_type": "markdown",
   "metadata": {},
   "source": [
    "## Most Invested Company in IND in 2nd top Sector"
   ]
  },
  {
   "cell_type": "code",
   "execution_count": 47,
   "metadata": {},
   "outputs": [
    {
     "data": {
      "text/html": [
       "<div>\n",
       "<style scoped>\n",
       "    .dataframe tbody tr th:only-of-type {\n",
       "        vertical-align: middle;\n",
       "    }\n",
       "\n",
       "    .dataframe tbody tr th {\n",
       "        vertical-align: top;\n",
       "    }\n",
       "\n",
       "    .dataframe thead th {\n",
       "        text-align: right;\n",
       "    }\n",
       "</style>\n",
       "<table border=\"1\" class=\"dataframe\">\n",
       "  <thead>\n",
       "    <tr style=\"text-align: right;\">\n",
       "      <th></th>\n",
       "      <th></th>\n",
       "      <th>raised_amount_usd</th>\n",
       "      <th>count</th>\n",
       "      <th>total_amount_invested</th>\n",
       "    </tr>\n",
       "    <tr>\n",
       "      <th>main_category</th>\n",
       "      <th>company_permalink</th>\n",
       "      <th></th>\n",
       "      <th></th>\n",
       "      <th></th>\n",
       "    </tr>\n",
       "  </thead>\n",
       "  <tbody>\n",
       "    <tr>\n",
       "      <th>Social, Finance, Analytics, Advertising</th>\n",
       "      <th>/organization/manthan-systems</th>\n",
       "      <td>50.7</td>\n",
       "      <td>236</td>\n",
       "      <td>2142.1982</td>\n",
       "    </tr>\n",
       "  </tbody>\n",
       "</table>\n",
       "</div>"
      ],
      "text/plain": [
       "                                                                       raised_amount_usd  \\\n",
       "main_category                           company_permalink                                  \n",
       "Social, Finance, Analytics, Advertising /organization/manthan-systems               50.7   \n",
       "\n",
       "                                                                       count  \\\n",
       "main_category                           company_permalink                      \n",
       "Social, Finance, Analytics, Advertising /organization/manthan-systems    236   \n",
       "\n",
       "                                                                       total_amount_invested  \n",
       "main_category                           company_permalink                                     \n",
       "Social, Finance, Analytics, Advertising /organization/manthan-systems              2142.1982  "
      ]
     },
     "execution_count": 47,
     "metadata": {},
     "output_type": "execute_result"
    }
   ],
   "source": [
    "# Most Invested Company in IND in 2nd top Sector 'Social, Finance, Analytics, Advertising'\n",
    "df_country3[df_country3[\"main_category\"]=='Social, Finance, Analytics, Advertising'].groupby(['main_category','company_permalink']).sum().sort_values('raised_amount_usd',ascending=False).head(1)"
   ]
  },
  {
   "cell_type": "markdown",
   "metadata": {},
   "source": [
    "## Plots for Data Anaysis"
   ]
  },
  {
   "cell_type": "markdown",
   "metadata": {},
   "source": [
    "## Plot showing each funding type's share"
   ]
  },
  {
   "cell_type": "code",
   "execution_count": 49,
   "metadata": {},
   "outputs": [
    {
     "data": {
      "image/png": "[encoded data removed]",
      "text/plain": [
       "<Figure size 1800x720 with 1 Axes>"
      ]
     },
     "metadata": {},
     "output_type": "display_data"
    }
   ],
   "source": [
    "#Plots\n",
    "#Plot 1: Plot showing each funding type's share\n",
    "import matplotlib.pyplot as plt;\n",
    "import seaborn as sns;\n",
    "sns.set_style(\"whitegrid\")\n",
    "plt.figure(figsize=(25, 10))\n",
    "sns.boxplot(x='funding_round_type', y='raised_amount_usd', data=master_frame_old)\n",
    "plt.xlabel(\"Type of Investment\")\n",
    "plt.ylabel(\"Total amount invested(million USD)\");\n",
    "plt.xlabel(\"Type of Investment\")\n",
    "plt.yscale('log')\n",
    "plt.show()"
   ]
  },
  {
   "cell_type": "markdown",
   "metadata": {},
   "source": [
    "## Plot showing Average amount of investments of venture, seed, private_equity"
   ]
  },
  {
   "cell_type": "code",
   "execution_count": 50,
   "metadata": {},
   "outputs": [
    {
     "data": {
      "image/png": "[encoded data removed]",
      "text/plain": [
       "<Figure size 720x360 with 1 Axes>"
      ]
     },
     "metadata": {},
     "output_type": "display_data"
    }
   ],
   "source": [
    "#Plot 2: Average amount of investments of venture, seed, private_equity\n",
    "plt.figure(figsize=(10, 5))\n",
    "sns.set_style(\"whitegrid\")\n",
    "df_plot=master_frame_old[master_frame_old['funding_round_type'].isin(['venture','seed','private_equity'])];\n",
    "sns.barplot(x='funding_round_type', y='raised_amount_usd', data=df_plot,estimator=np.mean);\n",
    "plt.axhline(y=5, linewidth=2, color = 'red')\n",
    "plt.axhline(y=15, linewidth=2, color = 'red')\n",
    "plt.ylabel(\"Average amount invested(million USD)\");\n",
    "plt.xlabel(\"Type of Investment\")\n",
    "plt.yscale('log')\n",
    "plt.tight_layout()\n",
    "plt.show()\n"
   ]
  },
  {
   "cell_type": "markdown",
   "metadata": {},
   "source": [
    "## Plot showing Number of investments for each funding type"
   ]
  },
  {
   "cell_type": "markdown",
   "metadata": {},
   "source": [
    "### This plot clearly shows that the most popular investment type is 'Venture'"
   ]
  },
  {
   "cell_type": "code",
   "execution_count": 51,
   "metadata": {},
   "outputs": [
    {
     "data": {
      "image/png": "[encoded data removed]",
      "text/plain": [
       "<Figure size 1440x720 with 1 Axes>"
      ]
     },
     "metadata": {},
     "output_type": "display_data"
    }
   ],
   "source": [
    "#Plot 3: Number of investments for each funding type -- Clearly tells 'venture'- the most popular type\n",
    "plt.figure(figsize=(20, 10))\n",
    "sns.countplot(y=\"funding_round_type\", data=master_frame_old)\n",
    "plt.xlabel(\"Number of Investments\");\n",
    "plt.ylabel(\"Type of Investment\")\n",
    "plt.show()"
   ]
  },
  {
   "cell_type": "markdown",
   "metadata": {},
   "source": [
    "## Plot showing total amount of investment in top 9 countries"
   ]
  },
  {
   "cell_type": "code",
   "execution_count": 52,
   "metadata": {},
   "outputs": [
    {
     "data": {
      "image/png": "[encoded data removed]",
      "text/plain": [
       "<Figure size 432x288 with 1 Axes>"
      ]
     },
     "metadata": {},
     "output_type": "display_data"
    }
   ],
   "source": [
    "#Plot 4: Plot of total amount of investment -countrywise - top 9 countries\n",
    "bp=sns.barplot(x='country_code', y='raised_amount_usd', data=top9);\n",
    "bp.set_xticklabels(bp.get_xticklabels(),rotation=40,ha=\"right\");\n",
    "plt.ylabel(\"Total Amount invested\");\n",
    "plt.xlabel(\"Countries invested\");\n",
    "plt.yscale('log');\n",
    "plt.tight_layout()\n",
    "plt.show();"
   ]
  },
  {
   "cell_type": "markdown",
   "metadata": {},
   "source": [
    "## Plot showing Count and Average of Investments for venture, seed, private_equity"
   ]
  },
  {
   "cell_type": "markdown",
   "metadata": {},
   "source": [
    "### This plot clearly shows that 'Venture' type is not only popular but also lies within the given range "
   ]
  },
  {
   "cell_type": "code",
   "execution_count": 53,
   "metadata": {},
   "outputs": [
    {
     "data": {
      "image/png": "[encoded data removed]",
      "text/plain": [
       "<Figure size 864x432 with 2 Axes>"
      ]
     },
     "metadata": {},
     "output_type": "display_data"
    }
   ],
   "source": [
    "#Plot 5: Number of investments and Average of investment amount for the funding types --venture, seed, private_equity\n",
    "#Black lines show the investment range specified\n",
    "plt.figure(figsize=(12, 6))\n",
    "plt.subplot(1, 2, 1)\n",
    "sns.countplot(x=\"funding_round_type\", data=df_plot)\n",
    "plt.title(\"Number of Investments\")\n",
    "plt.ylabel(\"Number of Investments\");\n",
    "plt.xlabel(\"Type of Investment\");\n",
    "plt.subplot(1, 2, 2)\n",
    "sns.barplot(y='raised_amount_usd', x=\"funding_round_type\", data=df_plot, estimator=np.mean)\n",
    "plt.title(\"Average\")\n",
    "plt.ylabel(\"Average amount of Investment in million USD\");\n",
    "plt.xlabel(\"Type of Investment\");\n",
    "plt.axhline(y=5, linewidth=2, color = 'k')\n",
    "plt.axhline(y=15, linewidth=2, color = 'k')\n",
    "plt.show()"
   ]
  },
  {
   "cell_type": "markdown",
   "metadata": {},
   "source": [
    "## Plot showing top 3 investment sectors in top 3 English speaking countries"
   ]
  },
  {
   "cell_type": "code",
   "execution_count": 54,
   "metadata": {},
   "outputs": [
    {
     "data": {
      "image/png": "[encoded data removed]",
      "text/plain": [
       "<Figure size 1152x432 with 3 Axes>"
      ]
     },
     "metadata": {},
     "output_type": "display_data"
    }
   ],
   "source": [
    "#Plot 6 -- Plot showing top 3 English speaking countries' top 3 investment sectors \n",
    "df1_count=df_country1.groupby('main_category',as_index=False)['raised_amount_usd'].count().sort_values(by='raised_amount_usd',ascending=False).head(3)\n",
    "df2_count=df_country2.groupby('main_category',as_index=False)['raised_amount_usd'].count().sort_values(by='raised_amount_usd',ascending=False).head(3)\n",
    "df3_count=df_country3.groupby('main_category',as_index=False)['raised_amount_usd'].count().sort_values(by='raised_amount_usd',ascending=False).head(3)\n",
    "plt.figure(figsize=(16, 6));\n",
    "plt.subplot(1,3,1);\n",
    "bp=sns.barplot(x='main_category', y='raised_amount_usd', data=df1_count);\n",
    "bp.set_xticklabels(bp.get_xticklabels(),rotation=40,ha=\"right\");\n",
    "plt.ylabel(\"Number of Investments\");\n",
    "plt.xlabel(\"Funding Sector\");\n",
    "plt.yscale('log');\n",
    "plt.tight_layout()\n",
    "plt.subplot(1,3,2);\n",
    "bp=sns.barplot(x='main_category', y='raised_amount_usd', data=df2_count);\n",
    "bp.set_xticklabels(bp.get_xticklabels(),rotation=40,ha=\"right\");\n",
    "plt.ylabel(\"Number of Investments\");\n",
    "plt.xlabel(\"Funding Sector\");\n",
    "plt.yscale('log');\n",
    "plt.tight_layout()\n",
    "plt.subplot(1,3,3);\n",
    "bp=sns.barplot(x='main_category', y='raised_amount_usd', data=df3_count);\n",
    "bp.set_xticklabels(bp.get_xticklabels(),rotation=40,ha=\"right\");\n",
    "plt.ylabel(\"Number of Investments\");\n",
    "plt.xlabel(\"Funding Sector\");\n",
    "plt.yscale('log');\n",
    "plt.tight_layout()\n",
    "plt.show();"
   ]
  }
 ],
 "metadata": {
  "kernelspec": {
   "display_name": "Python 3",
   "language": "python",
   "name": "python3"
  },
  "language_info": {
   "codemirror_mode": {
    "name": "ipython",
    "version": 3
   },
   "file_extension": ".py",
   "mimetype": "text/x-python",
   "name": "python",
   "nbconvert_exporter": "python",
   "pygments_lexer": "ipython3",
   "version": "3.7.3"
  }
 },
 "nbformat": 4,
 "nbformat_minor": 2
}
